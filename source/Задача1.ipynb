{
 "cells": [
  {
   "cell_type": "markdown",
   "metadata": {},
   "source": [
    "# Логика"
   ]
  },
  {
   "cell_type": "code",
   "execution_count": 2,
   "metadata": {},
   "outputs": [],
   "source": [
    "import numpy as np\n",
    "import torch"
   ]
  },
  {
   "cell_type": "code",
   "execution_count": 3,
   "metadata": {},
   "outputs": [],
   "source": [
    "import sys\n",
    "sys.path.insert(0, './python')"
   ]
  },
  {
   "cell_type": "code",
   "execution_count": 4,
   "metadata": {},
   "outputs": [],
   "source": [
    "from fuzzy_torch import logic"
   ]
  },
  {
   "cell_type": "markdown",
   "metadata": {},
   "source": [
    "## Градиенты"
   ]
  },
  {
   "cell_type": "code",
   "execution_count": 5,
   "metadata": {},
   "outputs": [],
   "source": [
    "a = torch.tensor(np.array([0.5, 0.9]), requires_grad=True)\n",
    "b = torch.tensor(np.array([0.7, 0.8]), requires_grad=True)"
   ]
  },
  {
   "cell_type": "code",
   "execution_count": 6,
   "metadata": {},
   "outputs": [],
   "source": [
    "d = torch.sum(logic.Product.fuzzy_or(a, b))"
   ]
  },
  {
   "cell_type": "code",
   "execution_count": 7,
   "metadata": {},
   "outputs": [],
   "source": [
    "d.backward()"
   ]
  },
  {
   "cell_type": "code",
   "execution_count": 8,
   "metadata": {},
   "outputs": [
    {
     "data": {
      "text/plain": [
       "tensor([0.5000, 0.1000], dtype=torch.float64)"
      ]
     },
     "execution_count": 8,
     "metadata": {},
     "output_type": "execute_result"
    }
   ],
   "source": [
    "b.grad"
   ]
  },
  {
   "cell_type": "markdown",
   "metadata": {},
   "source": [
    "## Индикаторные функции"
   ]
  },
  {
   "cell_type": "code",
   "execution_count": 10,
   "metadata": {},
   "outputs": [],
   "source": [
    "from fuzzy_torch.modules.indicators import Sigmoid, Gaussian"
   ]
  },
  {
   "cell_type": "code",
   "execution_count": 11,
   "metadata": {},
   "outputs": [],
   "source": [
    "params = Sigmoid((2))"
   ]
  },
  {
   "cell_type": "code",
   "execution_count": 12,
   "metadata": {},
   "outputs": [],
   "source": [
    "params.linear.weight = torch.nn.Parameter(torch.tensor([[0.5, 0.5]]))\n",
    "params.linear.bias = torch.nn.Parameter(torch.tensor([-0.5]))"
   ]
  },
  {
   "cell_type": "code",
   "execution_count": 13,
   "metadata": {},
   "outputs": [
    {
     "name": "stdout",
     "output_type": "stream",
     "text": [
      "Parameter containing:\n",
      "tensor([[0.5000, 0.5000]], requires_grad=True)\n",
      "Parameter containing:\n",
      "tensor([-0.5000], requires_grad=True)\n"
     ]
    }
   ],
   "source": [
    "print(params.linear.weight)\n",
    "print(params.linear.bias)"
   ]
  },
  {
   "cell_type": "code",
   "execution_count": 14,
   "metadata": {},
   "outputs": [
    {
     "data": {
      "text/plain": [
       "tensor([[1.3534e-15],\n",
       "        [9.8186e-01]], grad_fn=<SigmoidBackward0>)"
      ]
     },
     "execution_count": 14,
     "metadata": {},
     "output_type": "execute_result"
    }
   ],
   "source": [
    "params(torch.log(torch.tensor([[0.0000001, 1.0], [200.0, 0.1]])))"
   ]
  },
  {
   "cell_type": "code",
   "execution_count": 15,
   "metadata": {},
   "outputs": [
    {
     "data": {
      "text/plain": [
       "tensor([1., 1.])"
      ]
     },
     "execution_count": 15,
     "metadata": {},
     "output_type": "execute_result"
    }
   ],
   "source": [
    "(torch.zeros(2) + 0.0001) / (torch.zeros(2) + 0.0001)"
   ]
  },
  {
   "cell_type": "code",
   "execution_count": null,
   "metadata": {},
   "outputs": [],
   "source": []
  },
  {
   "cell_type": "markdown",
   "metadata": {},
   "source": [
    "### Простейшие логические выражения"
   ]
  },
  {
   "cell_type": "code",
   "execution_count": null,
   "metadata": {},
   "outputs": [],
   "source": [
    "\"\"\"\n",
    "N_temp = 101\n",
    "N_wind = 101\n",
    "\n",
    "temperature_np = np.linspace(-40.0, 60.0, N_temp)\n",
    "wind_speed_np = np.linspace(0.0, 10, N_wind)\n",
    "\n",
    "# Сетка значений.\n",
    "temperature_np_grid, wind_speed_np_grid = np.meshgrid(temperature_np, wind_speed_np)\n",
    "temperature_np_grid = temperature_np_grid.flatten()[:,None].astype(np.float32)\n",
    "wind_speed_np_grid = wind_speed_np_grid.flatten()[:,None].astype(np.float32)\n",
    "\"\"\""
   ]
  },
  {
   "cell_type": "code",
   "execution_count": null,
   "metadata": {},
   "outputs": [],
   "source": [
    "\"\"\"\n",
    "temperature = torch.tensor(temperature_np_grid, requires_grad=True)\n",
    "wind_speed = torch.tensor(wind_speed_np_grid, requires_grad=True)\n",
    "\"\"\""
   ]
  },
  {
   "cell_type": "code",
   "execution_count": 23,
   "metadata": {},
   "outputs": [
    {
     "name": "stdout",
     "output_type": "stream",
     "text": [
      "tensor([[0.]]) tensor([[0.]]) tensor([[1.]]) tensor([[0.]]) tensor([[1.]])\n"
     ]
    }
   ],
   "source": [
    "# Логические переменные.\n",
    "I = torch.tensor(np.random.choice([1,0],size=1).astype(np.float32))[:,None]\n",
    "O = torch.tensor(np.random.choice([1,0],size=1).astype(np.float32))[:,None]\n",
    "N = torch.tensor(np.random.choice([1,0],size=1).astype(np.float32))[:,None]\n",
    "T = torch.tensor(np.random.choice([1,0],size=1).astype(np.float32))[:,None]\n",
    "C = torch.tensor(np.random.choice([1,0],size=1).astype(np.float32))[:,None]\n",
    "\"\"\"\n",
    "wind_speed_is_high  = Gaussian(1, weight=8.0, offset=1.0)\n",
    "temperature_is_low  = Sigmoid(1, weight=-0.1, offset=5.0)\n",
    "temperature_is_high = Sigmoid(1, weight=0.1, offset=35.0)\n",
    "\"\"\"\n",
    "print(I,O,N,T,C)"
   ]
  },
  {
   "cell_type": "code",
   "execution_count": 25,
   "metadata": {},
   "outputs": [
    {
     "name": "stdout",
     "output_type": "stream",
     "text": [
      "ANN1:  tensor([[1.]])\n",
      "ANN2:  tensor([[0.]])\n",
      "ANN3:  tensor([[0.]])\n",
      "ANN4:  tensor([[0.]])\n",
      "ANN5:  tensor([[0.]])\n",
      "ANN6:  tensor([[0.]])\n",
      "ANN7:  tensor([[0.]])\n",
      "ANN8:  tensor([[0.]])\n",
      "ANN9:  tensor([[0.]])\n",
      "ANN10:  tensor([[0.]])\n",
      "ANN11:  tensor([[0.]])\n",
      "ANN12:  tensor([[0.]])\n"
     ]
    }
   ],
   "source": [
    "# Логика.\n",
    "Logic = logic.Godel\n",
    "\n",
    "I=torch.tensor(np.array([[0]]).astype(np.float32))\n",
    "O=torch.tensor(np.array([[1]]).astype(np.float32))\n",
    "N=torch.tensor(np.array([[1]]).astype(np.float32))\n",
    "T=torch.tensor(np.array([[1]]).astype(np.float32))\n",
    "C=torch.tensor(np.array([[1]]).astype(np.float32))\n",
    "# Алиасы для оераций.\n",
    "#fz2and  = Logic.fuzzy_2_and\n",
    "#fz2or   = Logic.fuzzy_2_or\n",
    "fzand  = Logic.fuzzy_many_and\n",
    "fzor   = Logic.fuzzy_many_or\n",
    "fzn = Logic.fuzzy_not\n",
    "fzimpl = Logic.fuzzy_impl\n",
    "\n",
    "# Логическое выражение.\n",
    "v1  = fzand(fzn(I),O,     N,     T,     C)\n",
    "v2  = fzand(fzn(I),O,     fzn(N),T,     C)\n",
    "v3  = fzand(I,     O,     fzn(N),T,     C)\n",
    "v4  = fzand(I,     fzn(O),N,     T,     C)\n",
    "v5  = fzand(I,     O,     N,     T,     C)\n",
    "v6  = fzand(I,     O,     N,     T,     fzn(C))\n",
    "v7  = fzand(fzn(I),O,     fzn(N),fzn(T),fzn(C))\n",
    "v8  = fzand(fzn(I),O,     fzn(N),T,     fzn(C))\n",
    "v9  = fzand(fzn(I),O,     fzn(N),fzn(T),C)\n",
    "v10 = fzand(I,     O,     fzn(N),T,     fzn(C))\n",
    "v11 = fzand(I,     fzn(O),fzn(N),T,     C)\n",
    "v12 = fzand(fzn(I),fzn(O),fzn(N),T,     fzn(C))\n",
    "v13 = fzand(I,     O,     N,     fzn(T),C)\n",
    "v14 = fzand(I,     O,     N,     fzn(T),fzn(C))\n",
    "v15 = fzand(I,     O,     fzn(N),fzn(T),C)\n",
    "v16 = fzand(I,     O,     fzn(N),fzn(T),fzn(C))\n",
    "v17 = fzand(I,     fzn(O),N,     T,     fzn(C))\n",
    "v18 = fzand(I,     fzn(O),N,     fzn(T),C)\n",
    "v19 = fzand(I,     fzn(O),fzn(N),T,     fzn(C))\n",
    "v20 = fzand(I,     fzn(O),fzn(N),fzn(T),C)\n",
    "v21 = fzand(fzn(I),O,     N,     T,     fzn(C))\n",
    "v22 = fzand(fzn(I),O,     N,     fzn(T),C)\n",
    "v23 = fzand(fzn(I),fzn(O),N,     T,     fzn(C))\n",
    "v24 = fzand(fzn(I),fzn(O),fzn(N),T,     C)\n",
    "v25 = fzand(fzn(I),fzn(O),fzn(N),fzn(T),fzn(C))\n",
    "v28 = fzand(I,     fzn(O),N,     T)\n",
    "v29 = fzand(I,     fzn(O),N,     T)\n",
    "v30 = fzand(fzn(I),O,     N,     T)\n",
    "\n",
    "ANN1  = fzor(v30,v22,v21,v1)\n",
    "ANN2  = v2\n",
    "ANN3  = fzor(v3,v15)\n",
    "ANN4  = fzor(v4,v17,v18,v28)\n",
    "ANN5  = fzor(v5,v13)\n",
    "ANN6  = fzor(v6,v14)\n",
    "ANN7  = v7\n",
    "ANN8  = v8\n",
    "ANN9  = v9\n",
    "ANN10 = fzor(v10,v16)\n",
    "ANN11 = fzor(v11,v19,v20,v29)\n",
    "ANN12 = fzor(v12,v23,v24,v25)\n",
    "\n",
    "print(\"ANN1: \", ANN1)\n",
    "print(\"ANN2: \", ANN2)\n",
    "print(\"ANN3: \", ANN3)\n",
    "print(\"ANN4: \", ANN4)\n",
    "print(\"ANN5: \", ANN5)\n",
    "print(\"ANN6: \", ANN6)\n",
    "print(\"ANN7: \", ANN7)\n",
    "print(\"ANN8: \", ANN8)\n",
    "print(\"ANN9: \", ANN9)\n",
    "print(\"ANN10: \", ANN10)\n",
    "print(\"ANN11: \", ANN11)\n",
    "print(\"ANN12: \", ANN12)"
   ]
  },
  {
   "cell_type": "code",
   "execution_count": 19,
   "metadata": {},
   "outputs": [],
   "source": [
    "close_window_np = close_window.detach().numpy()[:,0].reshape((N_temp, N_wind))"
   ]
  },
  {
   "cell_type": "code",
   "execution_count": 20,
   "metadata": {},
   "outputs": [
    {
     "data": {
      "text/plain": [
       "Text(0, 0.5, 'wind')"
      ]
     },
     "execution_count": 20,
     "metadata": {},
     "output_type": "execute_result"
    }
   ],
   "source": [
    "import matplotlib.pyplot as pl\n",
    "\n",
    "fig = pl.figure()\n",
    "ax = fig.gca()\n",
    "cfset = ax.contourf(temperature_np, wind_speed_np, close_window_np, cmap='Blues', levels=100)\n",
    "ax.set_xlabel('temp')\n",
    "ax.set_ylabel('wind')"
   ]
  },
  {
   "cell_type": "code",
   "execution_count": null,
   "metadata": {},
   "outputs": [],
   "source": []
  },
  {
   "cell_type": "code",
   "execution_count": null,
   "metadata": {},
   "outputs": [],
   "source": []
  },
  {
   "cell_type": "code",
   "execution_count": null,
   "metadata": {},
   "outputs": [],
   "source": []
  },
  {
   "cell_type": "code",
   "execution_count": null,
   "metadata": {},
   "outputs": [],
   "source": [
    "x_y = torch.tensor(np.array[[[0.9,0.9,0.8,0.4,0.5],\n",
    "                             [0.8,0.5,0.9,0.3,0.1],\n",
    "                             [0.3,0.9,0.6,0.5,0.9],\n",
    "                             [0.5,0.4,0.5,0.5,0.2],\n",
    "                             [0.7,0.8,0.8,0.2,0.6]]])\n",
    "y_z = torch.tensor(np.array[[[0.9,0.8,0.7,0.9,1.0],\n",
    "                             [0.6,0.4,0.8,0.5,0.6],\n",
    "                             [0.5,0.2,0.3,0.8,0.7],\n",
    "                             [0.5,0.9,0.5,0.8,0.4],\n",
    "                             [1.0,0.6,0.5,0.7,0.4],\n",
    "                             [0.4,0.5,1.0,0.7,0.8],\n",
    "                             [0.5,0.8,0.9,0.5,0.4],\n",
    "                             [0.5,0.6,0.7,0.6,0.5],\n",
    "                             [0.8,1.0,0.2,0.5,0.6],\n",
    "                             [0.3,0.5,0.9,0.6,0.8]]])\n",
    "x_z = compose(x_y,y_z)\n",
    "print(x_z)"
   ]
  }
 ],
 "metadata": {
  "kernelspec": {
   "display_name": "Python 3",
   "language": "python",
   "name": "python3"
  },
  "language_info": {
   "codemirror_mode": {
    "name": "ipython",
    "version": 3
   },
   "file_extension": ".py",
   "mimetype": "text/x-python",
   "name": "python",
   "nbconvert_exporter": "python",
   "pygments_lexer": "ipython3",
   "version": "3.7.3"
  }
 },
 "nbformat": 4,
 "nbformat_minor": 5
}
