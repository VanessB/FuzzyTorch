{
 "cells": [
  {
   "cell_type": "markdown",
   "id": "smaller-valuable",
   "metadata": {},
   "source": [
    "# Нечеткие автоматы"
   ]
  },
  {
   "cell_type": "code",
   "execution_count": null,
   "id": "threatened-litigation",
   "metadata": {},
   "outputs": [],
   "source": [
    "import numpy as np\n",
    "import torch"
   ]
  },
  {
   "cell_type": "code",
   "execution_count": null,
   "id": "wicked-trade",
   "metadata": {},
   "outputs": [],
   "source": [
    "import sys\n",
    "sys.path.insert(0, './python')"
   ]
  },
  {
   "cell_type": "code",
   "execution_count": null,
   "id": "freelance-right",
   "metadata": {},
   "outputs": [],
   "source": [
    "from fuzzy_torch import logic\n",
    "from fuzzy_torch.modules import ffsa, indicators"
   ]
  },
  {
   "cell_type": "markdown",
   "id": "organic-collectible",
   "metadata": {},
   "source": [
    "## Проверка переходов"
   ]
  },
  {
   "cell_type": "code",
   "execution_count": null,
   "id": "geological-cooking",
   "metadata": {},
   "outputs": [],
   "source": [
    "Logic = logic.Hamacher\n",
    "fuzzy_fsa = ffsa.TimeIndependentFFSA(Logic)"
   ]
  },
  {
   "cell_type": "code",
   "execution_count": null,
   "id": "aware-confusion",
   "metadata": {},
   "outputs": [],
   "source": [
    "# Добавление состояний и переходов.\n",
    "fuzzy_fsa.states = [0, 1]\n",
    "fuzzy_fsa.transitions.append(ffsa.FuzzyTransition(0, 1, indicators.Sigmoid(1, 1.0, 0.0)))"
   ]
  },
  {
   "cell_type": "code",
   "execution_count": null,
   "id": "working-afghanistan",
   "metadata": {},
   "outputs": [],
   "source": [
    "# Начальные активации.\n",
    "activations = torch.tensor(np.array([[1.0, 0.0],\n",
    "                                     [1.0, 0.0],\n",
    "                                     [1.0, 0.0],\n",
    "                                     [1.0, 0.0]]).astype(np.float32), requires_grad=True)\n",
    "\n",
    "# Последовательности.\n",
    "sequence = torch.tensor(np.array([[-1.0, -1.0, 0.0, 1.0, 1.0],\n",
    "                                  [-10.0, -5.0, -1.0, 0.0, 10.0],\n",
    "                                  [-10.0, -10.0, -10.0, -10.0, 0.0],\n",
    "                                  [-0.5, -0.5, -0.5, -0.5, -0.5]]).astype(np.float32), requires_grad=True)"
   ]
  },
  {
   "cell_type": "code",
   "execution_count": null,
   "id": "noble-college",
   "metadata": {},
   "outputs": [],
   "source": [
    "Activations = [activations]\n",
    "for step in range(sequence.size()[1]):\n",
    "    Activations.append(fuzzy_fsa(sequence[:, step][:,None], Activations[-1]))"
   ]
  },
  {
   "cell_type": "code",
   "execution_count": null,
   "id": "northern-musician",
   "metadata": {},
   "outputs": [],
   "source": [
    "torch.sum(Activations[-1][:,1]).backward()"
   ]
  },
  {
   "cell_type": "code",
   "execution_count": null,
   "id": "naval-graphics",
   "metadata": {},
   "outputs": [],
   "source": [
    "Activations"
   ]
  },
  {
   "cell_type": "code",
   "execution_count": null,
   "id": "amino-governor",
   "metadata": {},
   "outputs": [],
   "source": [
    "sequence.grad"
   ]
  },
  {
   "cell_type": "code",
   "execution_count": null,
   "id": "careful-screw",
   "metadata": {},
   "outputs": [],
   "source": [
    "print(fuzzy_fsa.transitions[0].condition.linear.weight.grad)\n",
    "print(fuzzy_fsa.transitions[0].condition.linear.bias.grad)"
   ]
  },
  {
   "cell_type": "code",
   "execution_count": null,
   "id": "planned-maple",
   "metadata": {},
   "outputs": [],
   "source": []
  },
  {
   "cell_type": "markdown",
   "id": "disturbed-handling",
   "metadata": {},
   "source": [
    "## Последовательность с переключением"
   ]
  },
  {
   "cell_type": "code",
   "execution_count": null,
   "id": "premier-stereo",
   "metadata": {},
   "outputs": [],
   "source": [
    "class SwitchingRegressor(torch.nn.Module):\n",
    "    def __init__(self, logic, ffsa):\n",
    "        super().__init__()\n",
    "        self.logic = logic\n",
    "        self.ffsa = ffsa\n",
    "        \n",
    "    def forward(input, init_activations):\n",
    "        steps = input.size()[1]\n",
    "        \n",
    "        activations = init_activations\n",
    "        outputs = []\n",
    "        for step in range(steps):\n",
    "            # Срез входа по текущему шагу.\n",
    "            input_on_current_step = input[:, step]\n",
    "            \n",
    "            # Новые активации (согласно нечеткому конечному автомату).\n",
    "            activations = self.ffsa(input_on_current_step, activations)\n",
    "            \n",
    "            # Получение выходов регрессоров.\n",
    "            output = [state[index](input_on_current_step) for state in self.ffsa.states]\n",
    "            output = torch.stack(output, dim=1)\n",
    "            outputs.append(activations * output)\n",
    "            \n",
    "        return torch.stack(outputs, dim=1)"
   ]
  },
  {
   "cell_type": "code",
   "execution_count": null,
   "id": "experimental-czech",
   "metadata": {},
   "outputs": [],
   "source": [
    "Logic = logic.Hamacher\n",
    "regressor = SwitchingRegressor(Logic, ffsa.TimeIndependentFFSA(Logic))"
   ]
  },
  {
   "cell_type": "code",
   "execution_count": null,
   "id": "adjustable-wright",
   "metadata": {},
   "outputs": [],
   "source": [
    "# Добавление состояний и переходов.\n",
    "regressor.ffsa.states = [torch.nn.Linear(), torch.nn.Linear(), torch.nn.Linear()]\n",
    "regressor.ffsa.transitions.append(ffsa.FuzzyTransition(0, 1, indicators.Sigmoid(1, 1.0, 0.0)))"
   ]
  }
 ],
 "metadata": {
  "kernelspec": {
   "display_name": "Python 3",
   "language": "python",
   "name": "python3"
  },
  "language_info": {
   "codemirror_mode": {
    "name": "ipython",
    "version": 3
   },
   "file_extension": ".py",
   "mimetype": "text/x-python",
   "name": "python",
   "nbconvert_exporter": "python",
   "pygments_lexer": "ipython3",
   "version": "3.9.2"
  }
 },
 "nbformat": 4,
 "nbformat_minor": 5
}
