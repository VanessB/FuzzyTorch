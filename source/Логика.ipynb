{
 "cells": [
  {
   "cell_type": "markdown",
   "id": "lesser-swedish",
   "metadata": {},
   "source": [
    "# Логика"
   ]
  },
  {
   "cell_type": "code",
   "execution_count": null,
   "id": "changed-popularity",
   "metadata": {},
   "outputs": [],
   "source": [
    "import numpy as np\n",
    "import torch"
   ]
  },
  {
   "cell_type": "code",
   "execution_count": null,
   "id": "historical-spoke",
   "metadata": {},
   "outputs": [],
   "source": [
    "import sys\n",
    "sys.path.insert(0, './python')"
   ]
  },
  {
   "cell_type": "code",
   "execution_count": null,
   "id": "asian-keeping",
   "metadata": {},
   "outputs": [],
   "source": [
    "from fuzzy_torch import logic"
   ]
  },
  {
   "cell_type": "markdown",
   "id": "marine-butter",
   "metadata": {},
   "source": [
    "## Градиенты"
   ]
  },
  {
   "cell_type": "code",
   "execution_count": null,
   "id": "frequent-mills",
   "metadata": {},
   "outputs": [],
   "source": [
    "a = torch.tensor(np.array([0.5, 0.9]), requires_grad=True)\n",
    "b = torch.tensor(np.array([0.7, 0.8]), requires_grad=True)"
   ]
  },
  {
   "cell_type": "code",
   "execution_count": null,
   "id": "affected-freeze",
   "metadata": {},
   "outputs": [],
   "source": [
    "d = torch.sum(logic.Product.fuzzy_or(a, b))"
   ]
  },
  {
   "cell_type": "code",
   "execution_count": null,
   "id": "political-mattress",
   "metadata": {},
   "outputs": [],
   "source": [
    "d.backward()"
   ]
  },
  {
   "cell_type": "code",
   "execution_count": null,
   "id": "declared-lindsay",
   "metadata": {},
   "outputs": [],
   "source": [
    "b.grad"
   ]
  },
  {
   "cell_type": "code",
   "execution_count": null,
   "id": "capital-curtis",
   "metadata": {},
   "outputs": [],
   "source": []
  },
  {
   "cell_type": "markdown",
   "id": "faced-pitch",
   "metadata": {},
   "source": [
    "## Индикаторные функции"
   ]
  },
  {
   "cell_type": "code",
   "execution_count": null,
   "id": "atmospheric-labor",
   "metadata": {},
   "outputs": [],
   "source": [
    "from fuzzy_torch.layers.indicators import Sigmoid, AbsSigmoid, Gaussian"
   ]
  },
  {
   "cell_type": "code",
   "execution_count": null,
   "id": "democratic-academy",
   "metadata": {},
   "outputs": [],
   "source": [
    "params = Sigmoid((2))"
   ]
  },
  {
   "cell_type": "code",
   "execution_count": null,
   "id": "wired-necessity",
   "metadata": {},
   "outputs": [],
   "source": [
    "params.linear.weight = torch.nn.Parameter(torch.tensor([[0.5, 0.5]]))\n",
    "params.linear.bias = torch.nn.Parameter(torch.tensor([-0.5]))"
   ]
  },
  {
   "cell_type": "code",
   "execution_count": null,
   "id": "greater-appeal",
   "metadata": {},
   "outputs": [],
   "source": [
    "print(params.linear.weight)\n",
    "print(params.linear.bias)"
   ]
  },
  {
   "cell_type": "code",
   "execution_count": null,
   "id": "relative-hurricane",
   "metadata": {},
   "outputs": [],
   "source": [
    "params(torch.log(torch.tensor([[0.0000001, 1.0], [200.0, 0.1]])))"
   ]
  },
  {
   "cell_type": "code",
   "execution_count": null,
   "id": "invalid-somalia",
   "metadata": {},
   "outputs": [],
   "source": [
    "(torch.zeros(2) + 0.0001) / (torch.zeros(2) + 0.0001)"
   ]
  },
  {
   "cell_type": "code",
   "execution_count": null,
   "id": "careful-favor",
   "metadata": {},
   "outputs": [],
   "source": []
  },
  {
   "cell_type": "markdown",
   "id": "restricted-gardening",
   "metadata": {},
   "source": [
    "## Простейшие логические выражения"
   ]
  },
  {
   "cell_type": "code",
   "execution_count": null,
   "id": "peaceful-paraguay",
   "metadata": {},
   "outputs": [],
   "source": [
    "N_temp = 101\n",
    "N_wind = 101\n",
    "\n",
    "temperature_np = np.linspace(-40.0, 60.0, N_temp)\n",
    "wind_speed_np = np.linspace(0.0, 10, N_wind)\n",
    "\n",
    "# Сетка значений.\n",
    "temperature_np_grid, wind_speed_np_grid = np.meshgrid(temperature_np, wind_speed_np)\n",
    "temperature_np_grid = temperature_np_grid.flatten()[:,None].astype(np.float32)\n",
    "wind_speed_np_grid = wind_speed_np_grid.flatten()[:,None].astype(np.float32)"
   ]
  },
  {
   "cell_type": "code",
   "execution_count": null,
   "id": "small-modification",
   "metadata": {},
   "outputs": [],
   "source": [
    "temperature = torch.tensor(temperature_np_grid, requires_grad=True)\n",
    "wind_speed  = torch.tensor(wind_speed_np_grid, requires_grad=True)"
   ]
  },
  {
   "cell_type": "code",
   "execution_count": null,
   "id": "particular-saturday",
   "metadata": {},
   "outputs": [],
   "source": [
    "# Логика.\n",
    "#Logic = logic.Godel\n",
    "#Logic = logic.Product\n",
    "#Logic = logic.Lukasiewicz\n",
    "#Logic = logic.Nilpotent\n",
    "Logic = logic.Hamacher\n",
    "\n",
    "# Алиасы для оераций.\n",
    "fzand  = Logic.fuzzy_and\n",
    "fzor   = Logic.fuzzy_or\n",
    "fzimpl = Logic.fuzzy_impl"
   ]
  },
  {
   "cell_type": "code",
   "execution_count": null,
   "id": "provincial-artwork",
   "metadata": {},
   "outputs": [],
   "source": [
    "class WindowController(torch.nn.Module):\n",
    "    def __init__(self):\n",
    "        super().__init__()\n",
    "        \n",
    "        # Логические переменные.\n",
    "        self.wind_speed_is_high  = Sigmoid(1, weight=2.0, offset=np.log10(7.5))\n",
    "        self.temperature_is_low  = Sigmoid(1, weight=-0.01, offset=-5.0)\n",
    "        self.temperature_is_high = Sigmoid(1, weight=0.01, offset=35.0)\n",
    "        \n",
    "    def forward(self, x):\n",
    "        # Логическое выражение.\n",
    "        result = fzor(\n",
    "            self.wind_speed_is_high(torch.log10(x[:,1,None] + 1e-7)),\n",
    "            fzor(\n",
    "                self.temperature_is_low(x[:,0,None]),\n",
    "                self.temperature_is_high(x[:,0,None])\n",
    "            )\n",
    "        )\n",
    "        \n",
    "        return result"
   ]
  },
  {
   "cell_type": "code",
   "execution_count": null,
   "id": "bound-fraud",
   "metadata": {},
   "outputs": [],
   "source": [
    "controller = WindowController()"
   ]
  },
  {
   "cell_type": "code",
   "execution_count": null,
   "id": "committed-slope",
   "metadata": {},
   "outputs": [],
   "source": [
    "grid_X = torch.cat((temperature, wind_speed), dim=1)"
   ]
  },
  {
   "cell_type": "code",
   "execution_count": null,
   "id": "exposed-cabinet",
   "metadata": {},
   "outputs": [],
   "source": [
    "grid_Y = controller(grid_X).detach().numpy()[:,0].reshape((N_temp, N_wind))"
   ]
  },
  {
   "cell_type": "markdown",
   "id": "taken-synthesis",
   "metadata": {},
   "source": [
    "### Обучение"
   ]
  },
  {
   "cell_type": "code",
   "execution_count": null,
   "id": "adopted-villa",
   "metadata": {},
   "outputs": [],
   "source": [
    "# Обучающая выборка\n",
    "train_X = np.array([\n",
    "    [-9.0, 1.0],\n",
    "    [-39.3, 3.0],\n",
    "    [-1.0, 2.2],\n",
    "    [9.0, 5.0],\n",
    "    [13.0, 9.0],\n",
    "    [-2.5, 4.0],\n",
    "    [32.0, 2.0],\n",
    "    [40.0, 3.0],\n",
    "    [25.6, 2.0],\n",
    "    [22.3, 5.0],\n",
    "    [31.0, 4.0],\n",
    "    [37.0, 0.1],\n",
    "    [43.0, 0.0],\n",
    "    [21.4, 7.0],\n",
    "    [19.0, 6.7],\n",
    "    [27.6, 7.4],\n",
    "    [25.2, 1.5],\n",
    "    [-19.5, 0.6],\n",
    "    [-18.5, 2.2],\n",
    "    [19.4, 0.4],\n",
    "    [15.8, 1.2],\n",
    "]).astype(np.float32)\n",
    "\n",
    "train_y = np.array([\n",
    "    0.0,\n",
    "    1.0,\n",
    "    0.0,\n",
    "    0.0,\n",
    "    1.0,\n",
    "    1.0,\n",
    "    0.0,\n",
    "    1.0,\n",
    "    0.0,\n",
    "    0.0,\n",
    "    1.0,\n",
    "    0.0,\n",
    "    1.0,\n",
    "    1.0,\n",
    "    1.0,\n",
    "    1.0,\n",
    "    1.0,\n",
    "    0.0,\n",
    "    1.0,\n",
    "    0.0,\n",
    "    0.0,\n",
    "]).astype(np.float32)[:,None]"
   ]
  },
  {
   "cell_type": "code",
   "execution_count": null,
   "id": "adaptive-majority",
   "metadata": {},
   "outputs": [],
   "source": [
    "import matplotlib.pyplot as pl\n",
    "\n",
    "fig = pl.figure()\n",
    "ax = fig.gca()\n",
    "cfset = ax.contourf(temperature_np, wind_speed_np, grid_Y, cmap='Blues', levels=100)\n",
    "ax.scatter(train_X[:,0], train_X[:,1], c=train_y, cmap='Blues')\n",
    "ax.set_xlabel('temp')\n",
    "ax.set_ylabel('wind')"
   ]
  },
  {
   "cell_type": "code",
   "execution_count": null,
   "id": "compliant-margin",
   "metadata": {},
   "outputs": [],
   "source": [
    "train_dataset = torch.utils.data.TensorDataset(torch.tensor(train_X), torch.tensor(train_y))"
   ]
  },
  {
   "cell_type": "code",
   "execution_count": null,
   "id": "apparent-collector",
   "metadata": {},
   "outputs": [],
   "source": [
    "train_dataloader = torch.utils.data.DataLoader(\n",
    "    train_dataset,\n",
    "    batch_size=32,\n",
    "    shuffle=False,\n",
    "    num_workers=0,\n",
    "    collate_fn=None,\n",
    "    pin_memory=False,\n",
    " )"
   ]
  },
  {
   "cell_type": "code",
   "execution_count": null,
   "id": "taken-retro",
   "metadata": {},
   "outputs": [],
   "source": [
    "import torch.optim as optim\n",
    "\n",
    "optimizer = optim.Adam(controller.parameters(), lr=0.05)#, momentum=0.9)"
   ]
  },
  {
   "cell_type": "code",
   "execution_count": null,
   "id": "infectious-scout",
   "metadata": {},
   "outputs": [],
   "source": [
    "loss = torch.nn.BCELoss()\n",
    "\n",
    "for epoch in range(1000):\n",
    "    running_loss = 0.0\n",
    "    for i, data in enumerate(train_dataloader, 0):\n",
    "        x, true_y = data\n",
    "\n",
    "        # zero the parameter gradients\n",
    "        optimizer.zero_grad()\n",
    "\n",
    "        # forward + backward + optimize\n",
    "        y = controller(x)\n",
    "        eval_loss = loss(y, true_y)\n",
    "        eval_loss.backward()\n",
    "        optimizer.step()\n",
    "\n",
    "        # print statistics\n",
    "        running_loss += eval_loss.item()\n",
    "        print(f'[{epoch + 1}, {i + 1:5d}] loss: {running_loss:.3f}')\n",
    "        running_loss = 0.0\n",
    "\n",
    "print('Finished Training')"
   ]
  },
  {
   "cell_type": "code",
   "execution_count": null,
   "id": "infinite-bridge",
   "metadata": {},
   "outputs": [],
   "source": [
    "grid_Y = controller(grid_X).detach().numpy()[:,0].reshape((N_temp, N_wind))"
   ]
  },
  {
   "cell_type": "code",
   "execution_count": null,
   "id": "adaptive-center",
   "metadata": {},
   "outputs": [],
   "source": [
    "import matplotlib.pyplot as pl\n",
    "\n",
    "fig = pl.figure()\n",
    "ax = fig.gca()\n",
    "cfset = ax.contourf(temperature_np, wind_speed_np, grid_Y, cmap='Blues', levels=100)\n",
    "ax.scatter(train_X[:,0], train_X[:,1], c=train_y, cmap='Blues')\n",
    "ax.set_xlabel('temp')\n",
    "ax.set_ylabel('wind')"
   ]
  },
  {
   "cell_type": "code",
   "execution_count": null,
   "id": "indonesian-decade",
   "metadata": {},
   "outputs": [],
   "source": []
  }
 ],
 "metadata": {
  "kernelspec": {
   "display_name": "Python 3",
   "language": "python",
   "name": "python3"
  },
  "language_info": {
   "codemirror_mode": {
    "name": "ipython",
    "version": 3
   },
   "file_extension": ".py",
   "mimetype": "text/x-python",
   "name": "python",
   "nbconvert_exporter": "python",
   "pygments_lexer": "ipython3",
   "version": "3.9.2"
  }
 },
 "nbformat": 4,
 "nbformat_minor": 5
}
