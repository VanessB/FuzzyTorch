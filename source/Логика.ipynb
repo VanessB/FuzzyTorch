{
 "cells": [
  {
   "cell_type": "markdown",
   "id": "lesser-swedish",
   "metadata": {},
   "source": [
    "# Логика"
   ]
  },
  {
   "cell_type": "code",
   "execution_count": null,
   "id": "changed-popularity",
   "metadata": {},
   "outputs": [],
   "source": [
    "import numpy as np\n",
    "import torch"
   ]
  },
  {
   "cell_type": "code",
   "execution_count": null,
   "id": "historical-spoke",
   "metadata": {},
   "outputs": [],
   "source": [
    "import sys\n",
    "sys.path.insert(0, './python')"
   ]
  },
  {
   "cell_type": "code",
   "execution_count": null,
   "id": "asian-keeping",
   "metadata": {},
   "outputs": [],
   "source": [
    "from fuzzy_torch import logic"
   ]
  },
  {
   "cell_type": "markdown",
   "id": "marine-butter",
   "metadata": {},
   "source": [
    "## Градиенты"
   ]
  },
  {
   "cell_type": "code",
   "execution_count": null,
   "id": "frequent-mills",
   "metadata": {},
   "outputs": [],
   "source": [
    "a = torch.tensor(np.array([0.5, 0.9]), requires_grad=True)\n",
    "b = torch.tensor(np.array([0.7, 0.8]), requires_grad=True)"
   ]
  },
  {
   "cell_type": "code",
   "execution_count": null,
   "id": "affected-freeze",
   "metadata": {},
   "outputs": [],
   "source": [
    "d = torch.sum(logic.Product.fuzzy_or(a, b))"
   ]
  },
  {
   "cell_type": "code",
   "execution_count": null,
   "id": "political-mattress",
   "metadata": {},
   "outputs": [],
   "source": [
    "d.backward()"
   ]
  },
  {
   "cell_type": "code",
   "execution_count": null,
   "id": "declared-lindsay",
   "metadata": {},
   "outputs": [],
   "source": [
    "b.grad"
   ]
  },
  {
   "cell_type": "code",
   "execution_count": null,
   "id": "capital-curtis",
   "metadata": {},
   "outputs": [],
   "source": []
  },
  {
   "cell_type": "markdown",
   "id": "faced-pitch",
   "metadata": {},
   "source": [
    "## Индикаторные функции"
   ]
  },
  {
   "cell_type": "code",
   "execution_count": null,
   "id": "atmospheric-labor",
   "metadata": {},
   "outputs": [],
   "source": [
    "from fuzzy_torch.layers.indicators import Sigmoid, Gaussian"
   ]
  },
  {
   "cell_type": "code",
   "execution_count": null,
   "id": "democratic-academy",
   "metadata": {},
   "outputs": [],
   "source": [
    "params = Sigmoid((2))"
   ]
  },
  {
   "cell_type": "code",
   "execution_count": null,
   "id": "wired-necessity",
   "metadata": {},
   "outputs": [],
   "source": [
    "params.linear.weight = torch.nn.Parameter(torch.tensor([[0.5, 0.5]]))\n",
    "params.linear.bias = torch.nn.Parameter(torch.tensor([-0.5]))"
   ]
  },
  {
   "cell_type": "code",
   "execution_count": null,
   "id": "greater-appeal",
   "metadata": {},
   "outputs": [],
   "source": [
    "print(params.linear.weight)\n",
    "print(params.linear.bias)"
   ]
  },
  {
   "cell_type": "code",
   "execution_count": null,
   "id": "relative-hurricane",
   "metadata": {},
   "outputs": [],
   "source": [
    "params(torch.log(torch.tensor([[0.0000001, 1.0], [200.0, 0.1]])))"
   ]
  },
  {
   "cell_type": "code",
   "execution_count": null,
   "id": "invalid-somalia",
   "metadata": {},
   "outputs": [],
   "source": [
    "(torch.zeros(2) + 0.0001) / (torch.zeros(2) + 0.0001)"
   ]
  },
  {
   "cell_type": "code",
   "execution_count": null,
   "id": "careful-favor",
   "metadata": {},
   "outputs": [],
   "source": []
  },
  {
   "cell_type": "markdown",
   "id": "restricted-gardening",
   "metadata": {},
   "source": [
    "### Простейшие логические выражения"
   ]
  },
  {
   "cell_type": "code",
   "execution_count": null,
   "id": "peaceful-paraguay",
   "metadata": {},
   "outputs": [],
   "source": [
    "N_temp = 101\n",
    "N_wind = 101\n",
    "\n",
    "temperature_np = np.linspace(-40.0, 60.0, N_temp)\n",
    "wind_speed_np = np.linspace(0.0, 10, N_wind)\n",
    "\n",
    "# Сетка значений.\n",
    "temperature_np_grid, wind_speed_np_grid = np.meshgrid(temperature_np, wind_speed_np)\n",
    "temperature_np_grid = temperature_np_grid.flatten()[:,None].astype(np.float32)\n",
    "wind_speed_np_grid = wind_speed_np_grid.flatten()[:,None].astype(np.float32)"
   ]
  },
  {
   "cell_type": "code",
   "execution_count": null,
   "id": "small-modification",
   "metadata": {},
   "outputs": [],
   "source": [
    "temperature = torch.tensor(temperature_np_grid, requires_grad=True)\n",
    "wind_speed  = torch.tensor(wind_speed_np_grid, requires_grad=True)"
   ]
  },
  {
   "cell_type": "code",
   "execution_count": null,
   "id": "tough-position",
   "metadata": {},
   "outputs": [],
   "source": [
    "# Логические переменные.\n",
    "wind_speed_is_high  = Gaussian(1, weight=8.0, offset=1.0)\n",
    "temperature_is_low  = Sigmoid(1, weight=-0.1, offset=5.0)\n",
    "temperature_is_high = Sigmoid(1, weight=0.1, offset=35.0)"
   ]
  },
  {
   "cell_type": "code",
   "execution_count": null,
   "id": "particular-saturday",
   "metadata": {},
   "outputs": [],
   "source": [
    "# Логика.\n",
    "#Logic = logic.Godel\n",
    "#Logic = logic.Product\n",
    "#Logic = logic.Lukasiewicz\n",
    "Logic = logic.Hamacher\n",
    "\n",
    "# Алиасы для оераций.\n",
    "fzand  = Logic.fuzzy_and\n",
    "fzor   = Logic.fuzzy_or\n",
    "fzimpl = Logic.fuzzy_impl\n",
    "\n",
    "# Логическое выражение.\n",
    "close_window = fzor(\n",
    "    wind_speed_is_high(torch.log10(wind_speed)),\n",
    "    fzor(\n",
    "        temperature_is_low(temperature),\n",
    "        temperature_is_high(temperature)\n",
    "    )\n",
    ")"
   ]
  },
  {
   "cell_type": "code",
   "execution_count": null,
   "id": "irish-prevention",
   "metadata": {},
   "outputs": [],
   "source": [
    "close_window_np = close_window.detach().numpy()[:,0].reshape((N_temp, N_wind))"
   ]
  },
  {
   "cell_type": "code",
   "execution_count": null,
   "id": "social-number",
   "metadata": {},
   "outputs": [],
   "source": [
    "import matplotlib.pyplot as pl\n",
    "\n",
    "fig = pl.figure()\n",
    "ax = fig.gca()\n",
    "cfset = ax.contourf(temperature_np, wind_speed_np, close_window_np, cmap='Blues', levels=100)\n",
    "ax.set_xlabel('temp')\n",
    "ax.set_ylabel('wind')"
   ]
  },
  {
   "cell_type": "code",
   "execution_count": null,
   "id": "genuine-joining",
   "metadata": {},
   "outputs": [],
   "source": []
  }
 ],
 "metadata": {
  "kernelspec": {
   "display_name": "Python 3",
   "language": "python",
   "name": "python3"
  },
  "language_info": {
   "codemirror_mode": {
    "name": "ipython",
    "version": 3
   },
   "file_extension": ".py",
   "mimetype": "text/x-python",
   "name": "python",
   "nbconvert_exporter": "python",
   "pygments_lexer": "ipython3",
   "version": "3.9.2"
  }
 },
 "nbformat": 4,
 "nbformat_minor": 5
}
