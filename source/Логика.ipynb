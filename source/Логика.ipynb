{
 "cells": [
  {
   "cell_type": "markdown",
   "metadata": {},
   "source": [
    "# Логика"
   ]
  },
  {
   "cell_type": "code",
   "execution_count": null,
   "metadata": {},
   "outputs": [],
   "source": [
    "import numpy as np\n",
    "import torch"
   ]
  },
  {
   "cell_type": "code",
   "execution_count": null,
   "metadata": {},
   "outputs": [],
   "source": [
    "import sys\n",
    "sys.path.insert(0, './python')"
   ]
  },
  {
   "cell_type": "code",
   "execution_count": null,
   "metadata": {},
   "outputs": [],
   "source": [
    "from fuzzy_torch import logic"
   ]
  },
  {
   "cell_type": "code",
   "execution_count": null,
   "metadata": {},
   "outputs": [],
   "source": [
    "# Логика.\n",
    "#Logic = logic.Godel\n",
    "#Logic = logic.Product\n",
    "#Logic = logic.Lukasiewicz\n",
    "#Logic = logic.Nilpotent\n",
    "Logic = logic.Hamacher\n",
    "\n",
    "# Алиасы для оераций.\n",
    "fzand  = Logic.fuzzy_and\n",
    "fzor   = Logic.fuzzy_or\n",
    "fzimpl = Logic.fuzzy_impl"
   ]
  },
  {
   "cell_type": "markdown",
   "metadata": {},
   "source": [
    "## Градиенты"
   ]
  },
  {
   "cell_type": "code",
   "execution_count": null,
   "metadata": {},
   "outputs": [],
   "source": [
    "a = torch.tensor(np.array([0.5, 0.9]), requires_grad=True)\n",
    "b = torch.tensor(np.array([0.7, 0.8]), requires_grad=True)"
   ]
  },
  {
   "cell_type": "code",
   "execution_count": null,
   "metadata": {},
   "outputs": [],
   "source": [
    "d = torch.sum(logic.Product.fuzzy_or(a, b))"
   ]
  },
  {
   "cell_type": "code",
   "execution_count": null,
   "metadata": {},
   "outputs": [],
   "source": [
    "d.backward()"
   ]
  },
  {
   "cell_type": "code",
   "execution_count": null,
   "metadata": {},
   "outputs": [],
   "source": [
    "b.grad"
   ]
  },
  {
   "cell_type": "code",
   "execution_count": null,
   "metadata": {},
   "outputs": [],
   "source": []
  },
  {
   "cell_type": "markdown",
   "metadata": {},
   "source": [
    "## Индикаторные функции"
   ]
  },
  {
   "cell_type": "code",
   "execution_count": null,
   "metadata": {},
   "outputs": [],
   "source": [
    "from fuzzy_torch.modules.indicators import * #Sigmoid, AbsSigmoid, Gaussian"
   ]
  },
  {
   "cell_type": "code",
   "execution_count": null,
   "metadata": {},
   "outputs": [],
   "source": [
    "params = Sigmoid((2))"
   ]
  },
  {
   "cell_type": "code",
   "execution_count": null,
   "metadata": {},
   "outputs": [],
   "source": [
    "params.linear.weight = torch.nn.Parameter(torch.tensor([[0.5, 0.5]]))\n",
    "params.linear.bias = torch.nn.Parameter(torch.tensor([-0.5]))"
   ]
  },
  {
   "cell_type": "code",
   "execution_count": null,
   "metadata": {},
   "outputs": [],
   "source": [
    "print(params.linear.weight)\n",
    "print(params.linear.bias)"
   ]
  },
  {
   "cell_type": "code",
   "execution_count": null,
   "metadata": {},
   "outputs": [],
   "source": [
    "params(torch.log(torch.tensor([[0.0000001, 1.0], [200.0, 0.1]])))"
   ]
  },
  {
   "cell_type": "code",
   "execution_count": null,
   "metadata": {},
   "outputs": [],
   "source": [
    "(torch.zeros(2) + 0.0001) / (torch.zeros(2) + 0.0001)"
   ]
  },
  {
   "cell_type": "code",
   "execution_count": null,
   "metadata": {},
   "outputs": [],
   "source": []
  },
  {
   "cell_type": "markdown",
   "metadata": {},
   "source": [
    "## Простейшие логические выражения"
   ]
  },
  {
   "cell_type": "code",
   "execution_count": null,
   "metadata": {},
   "outputs": [],
   "source": [
    "N_temp = 101\n",
    "N_wind = 101\n",
    "\n",
    "temperature_np = np.linspace(-40.0, 60.0, N_temp)\n",
    "wind_speed_np = np.linspace(0.0, 10, N_wind)\n",
    "\n",
    "# Сетка значений.\n",
    "temperature_np_grid, wind_speed_np_grid = np.meshgrid(temperature_np, wind_speed_np)\n",
    "temperature_np_grid = temperature_np_grid.flatten()[:,None].astype(np.float32)\n",
    "wind_speed_np_grid = wind_speed_np_grid.flatten()[:,None].astype(np.float32)"
   ]
  },
  {
   "cell_type": "code",
   "execution_count": null,
   "metadata": {},
   "outputs": [],
   "source": [
    "temperature = torch.tensor(temperature_np_grid, requires_grad=True)\n",
    "wind_speed  = torch.tensor(wind_speed_np_grid, requires_grad=True)"
   ]
  },
  {
   "cell_type": "code",
   "execution_count": null,
   "metadata": {},
   "outputs": [],
   "source": [
    "class WindowController(torch.nn.Module):\n",
    "    def __init__(self):\n",
    "        super().__init__()\n",
    "        \n",
    "        # Логические переменные.\n",
    "        self.wind_speed_is_high  = Sigmoid(1, weight=2.0, offset=np.log10(7.5))\n",
    "        self.temperature_is_low  = Sigmoid(1, weight=-0.01, offset=-5.0)\n",
    "        self.temperature_is_high = Sigmoid(1, weight=0.01, offset=35.0)\n",
    "        \n",
    "    def forward(self, x):\n",
    "        # Логическое выражение.\n",
    "        result = fzor(\n",
    "            self.wind_speed_is_high(torch.log10(x[:,1,None] + 1e-7)),\n",
    "            fzor(\n",
    "                self.temperature_is_low(x[:,0,None]),\n",
    "                self.temperature_is_high(x[:,0,None])\n",
    "            )\n",
    "        )\n",
    "        \n",
    "        return result"
   ]
  },
  {
   "cell_type": "code",
   "execution_count": null,
   "metadata": {},
   "outputs": [],
   "source": [
    "controller = WindowController()"
   ]
  },
  {
   "cell_type": "code",
   "execution_count": null,
   "metadata": {},
   "outputs": [],
   "source": [
    "grid_X = torch.cat((temperature, wind_speed), dim=1)"
   ]
  },
  {
   "cell_type": "code",
   "execution_count": null,
   "metadata": {},
   "outputs": [],
   "source": [
    "grid_Y = controller(grid_X).detach().numpy()[:,0].reshape((N_temp, N_wind))"
   ]
  },
  {
   "cell_type": "markdown",
   "metadata": {},
   "source": [
    "### Обучение"
   ]
  },
  {
   "cell_type": "code",
   "execution_count": null,
   "metadata": {},
   "outputs": [],
   "source": [
    "# Обучающая выборка\n",
    "train_X = np.array([\n",
    "    [-9.0, 1.0],\n",
    "    [-39.3, 3.0],\n",
    "    [-1.0, 2.2],\n",
    "    [9.0, 5.0],\n",
    "    [13.0, 9.0],\n",
    "    [-2.5, 4.0],\n",
    "    [32.0, 2.0],\n",
    "    [40.0, 3.0],\n",
    "    [25.6, 2.0],\n",
    "    [22.3, 5.0],\n",
    "    [31.0, 4.0],\n",
    "    [37.0, 0.1],\n",
    "    [43.0, 0.0],\n",
    "    [21.4, 7.0],\n",
    "    [19.0, 6.7],\n",
    "    [27.6, 7.4],\n",
    "    [25.2, 1.5],\n",
    "    [-19.5, 0.6],\n",
    "    [-18.5, 2.2],\n",
    "    [19.4, 0.4],\n",
    "    [15.8, 1.2],\n",
    "]).astype(np.float32)\n",
    "\n",
    "train_y = np.array([\n",
    "    0.0,\n",
    "    1.0,\n",
    "    0.0,\n",
    "    0.0,\n",
    "    1.0,\n",
    "    1.0,\n",
    "    0.0,\n",
    "    1.0,\n",
    "    0.0,\n",
    "    0.0,\n",
    "    1.0,\n",
    "    0.0,\n",
    "    1.0,\n",
    "    1.0,\n",
    "    1.0,\n",
    "    1.0,\n",
    "    1.0,\n",
    "    0.0,\n",
    "    1.0,\n",
    "    0.0,\n",
    "    0.0,\n",
    "]).astype(np.float32)[:,None]"
   ]
  },
  {
   "cell_type": "code",
   "execution_count": null,
   "metadata": {},
   "outputs": [],
   "source": [
    "import matplotlib.pyplot as pl\n",
    "\n",
    "fig = pl.figure()\n",
    "ax = fig.gca()\n",
    "cfset = ax.contourf(temperature_np, wind_speed_np, grid_Y, cmap='Blues', levels=100)\n",
    "ax.scatter(train_X[:,0], train_X[:,1], c=train_y, cmap='Blues')\n",
    "ax.set_xlabel('temp')\n",
    "ax.set_ylabel('wind')"
   ]
  },
  {
   "cell_type": "code",
   "execution_count": null,
   "metadata": {},
   "outputs": [],
   "source": [
    "train_dataset = torch.utils.data.TensorDataset(torch.tensor(train_X), torch.tensor(train_y))"
   ]
  },
  {
   "cell_type": "code",
   "execution_count": null,
   "metadata": {},
   "outputs": [],
   "source": [
    "train_dataloader = torch.utils.data.DataLoader(\n",
    "    train_dataset,\n",
    "    batch_size=32,\n",
    "    shuffle=False,\n",
    "    num_workers=0,\n",
    "    collate_fn=None,\n",
    "    pin_memory=False,\n",
    " )"
   ]
  },
  {
   "cell_type": "code",
   "execution_count": null,
   "metadata": {},
   "outputs": [],
   "source": [
    "import torch.optim as optim\n",
    "\n",
    "optimizer = optim.Adam(controller.parameters(), lr=0.05)#, momentum=0.9)"
   ]
  },
  {
   "cell_type": "code",
   "execution_count": null,
   "metadata": {},
   "outputs": [],
   "source": [
    "loss = torch.nn.BCELoss()\n",
    "\n",
    "for epoch in range(1000):\n",
    "    running_loss = 0.0\n",
    "    for i, data in enumerate(train_dataloader, 0):\n",
    "        x, true_y = data\n",
    "\n",
    "        # zero the parameter gradients\n",
    "        optimizer.zero_grad()\n",
    "\n",
    "        # forward + backward + optimize\n",
    "        y = controller(x)\n",
    "        eval_loss = loss(y, true_y)\n",
    "        eval_loss.backward()\n",
    "        optimizer.step()\n",
    "\n",
    "        # print statistics\n",
    "        running_loss += eval_loss.item()\n",
    "        print(f'[{epoch + 1}, {i + 1:5d}] loss: {running_loss:.3f}')\n",
    "        running_loss = 0.0\n",
    "\n",
    "print('Finished Training')"
   ]
  },
  {
   "cell_type": "code",
   "execution_count": null,
   "metadata": {},
   "outputs": [],
   "source": [
    "grid_Y = controller(grid_X).detach().numpy()[:,0].reshape((N_temp, N_wind))"
   ]
  },
  {
   "cell_type": "code",
   "execution_count": null,
   "metadata": {},
   "outputs": [],
   "source": [
    "import matplotlib.pyplot as pl\n",
    "\n",
    "fig = pl.figure()\n",
    "ax = fig.gca()\n",
    "cfset = ax.contourf(temperature_np, wind_speed_np, grid_Y, cmap='Blues', levels=100)\n",
    "ax.scatter(train_X[:,0], train_X[:,1], c=train_y, cmap='Blues')\n",
    "ax.set_xlabel('temp')\n",
    "ax.set_ylabel('wind')"
   ]
  },
  {
   "cell_type": "code",
   "execution_count": null,
   "metadata": {},
   "outputs": [],
   "source": []
  },
  {
   "cell_type": "markdown",
   "metadata": {},
   "source": [
    "## Привет Студсовету ФПМИ"
   ]
  },
  {
   "cell_type": "code",
   "execution_count": null,
   "metadata": {},
   "outputs": [],
   "source": [
    "class WashingMachineController(torch.nn.Module):\n",
    "    def __init__(self):\n",
    "        super().__init__()\n",
    "        \n",
    "        # Логические переменные.\n",
    "        self.D_is_high    = Triangle(1, weight=(1/50), offset=100)\n",
    "        self.D_is_medium  = Triangle(1, weight=(1/50), offset=0)\n",
    "        self.D_is_low     = Triangle(1, weight=(1/50), offset=50)\n",
    "        self.G_is_medium  = Triangle(1, weight=(1/25), offset=25.0)\n",
    "        self.G_is_high    = Triangle(1, weight=(1/100), offset=100.0)\n",
    "        self.G_is_none    = Singletone()\n",
    "        \n",
    "    def forward(self, D, G):\n",
    "        # Логическое выражение.\n",
    "        #print(self.D_is_low(D).detach().numpy(), torch.eq(G,0).detach().numpy())\n",
    "        VS = fzand(self.D_is_low(D), self.G_is_none(G))#torch.eq(G,0))\n",
    "        S  = fzand(self.D_is_medium(D), self.G_is_none(G))#torch.eq(G,0))\n",
    "        N  = fzor(fzand(self.D_is_high(D), self.G_is_none(G)),#torch.eq(G,0)),\n",
    "                  fzand(self.D_is_low(D), self.G_is_medium(G)),\n",
    "                  fzand(self.D_is_medium(D), self.G_is_medium(G)))\n",
    "        L  = fzor(fzand(self.D_is_high(D), self.G_is_medium(G)),\n",
    "                  fzand(self.D_is_low(D), self.G_is_high(G)),\n",
    "                  fzand(self.D_is_medium(D), self.G_is_high(G)))\n",
    "        VL = fzand(self.D_is_high(D), self.G_is_high(G))\n",
    "        \n",
    "        result = (30 * VS + 45 * S + 90 * N + 150 * L + 210 * VL) / (VS + S + N + L + VL)\n",
    "        \n",
    "        return result"
   ]
  },
  {
   "cell_type": "code",
   "execution_count": null,
   "metadata": {},
   "outputs": [],
   "source": [
    "washing_machine_1 = WashingMachineController()"
   ]
  },
  {
   "cell_type": "code",
   "execution_count": null,
   "metadata": {},
   "outputs": [],
   "source": [
    "D = torch.tensor(np.array([[100]]).astype(np.float32))\n",
    "G = torch.tensor(np.array([[100]]).astype(np.float32))\n",
    "\n",
    "print(washing_machine_1(D, G).detach().numpy()[0,0])"
   ]
  },
  {
   "cell_type": "code",
   "execution_count": null,
   "metadata": {},
   "outputs": [],
   "source": [
    "N_D = 101\n",
    "N_G = 101\n",
    "\n",
    "D_np = np.linspace(0.0, 100.0, N_D)\n",
    "G_np = np.linspace(0.0, 100.0, N_G)\n",
    "\n",
    "# Сетка значений.\n",
    "D_np_grid, G_np_grid = np.meshgrid(D_np, G_np)\n",
    "D_np_grid = D_np_grid.flatten()[:,None].astype(np.float32)\n",
    "G_np_grid = G_np_grid.flatten()[:,None].astype(np.float32)"
   ]
  },
  {
   "cell_type": "code",
   "execution_count": null,
   "metadata": {},
   "outputs": [],
   "source": [
    "D = torch.tensor(D_np_grid, requires_grad=True)\n",
    "G = torch.tensor(G_np_grid, requires_grad=True)"
   ]
  },
  {
   "cell_type": "code",
   "execution_count": null,
   "metadata": {},
   "outputs": [],
   "source": [
    "grid_Y = washing_machine_1(D,G).detach().numpy()[:,0].reshape((N_D, N_G))"
   ]
  },
  {
   "cell_type": "code",
   "execution_count": null,
   "metadata": {},
   "outputs": [],
   "source": [
    "import matplotlib.pyplot as pl\n",
    "\n",
    "fig = pl.figure()\n",
    "ax = fig.gca()\n",
    "cfset = ax.contourf(D_np, G_np, grid_Y, cmap='Blues', levels=100)\n",
    "ax.set_xlabel('D, %')\n",
    "ax.set_ylabel('G, %')"
   ]
  },
  {
   "cell_type": "markdown",
   "metadata": {},
   "source": [
    "## Бинарные отношения"
   ]
  },
  {
   "cell_type": "code",
   "execution_count": null,
   "metadata": {},
   "outputs": [],
   "source": [
    "# Логика.\n",
    "Logic = logic.Godel\n",
    "#Logic = logic.Product\n",
    "#Logic = logic.Lukasiewicz\n",
    "#Logic = logic.Nilpotent\n",
    "#Logic = logic.Hamacher"
   ]
  },
  {
   "cell_type": "code",
   "execution_count": null,
   "metadata": {},
   "outputs": [],
   "source": [
    "relation_A = torch.tensor(np.array([[0.1, 0.4],\n",
    "                                    [0.7, 0.5]]).astype(np.float32))[None,:]\n",
    "relation_B = torch.tensor(np.array([[0.8, 0.7, 0.6],\n",
    "                                    [0.2, 0.4, 0.1]]).astype(np.float32))[None,:]"
   ]
  },
  {
   "cell_type": "code",
   "execution_count": null,
   "metadata": {},
   "outputs": [],
   "source": [
    "def compose(relation_A, relation_B):\n",
    "    composition = torch.zeros(relation_A.size()[0], relation_A.size()[1], relation_B.size()[2])\n",
    "    \n",
    "    for a_idx in range(relation_A.size()[1]):\n",
    "        for b_idx in range(relation_B.size()[2]):\n",
    "            value = torch.zeros(relation_A.size()[0])\n",
    "            \n",
    "            for c_idx in range(relation_A.size()[2]):\n",
    "                value = Logic.fuzzy_or(value, Logic.fuzzy_and(relation_A[:, a_idx, c_idx],\n",
    "                                                              relation_B[:, c_idx, b_idx]))\n",
    "            \n",
    "            composition[:, a_idx, b_idx] = value\n",
    "            \n",
    "    return composition"
   ]
  },
  {
   "cell_type": "code",
   "execution_count": null,
   "metadata": {},
   "outputs": [],
   "source": [
    "compose(relation_A, relation_B)"
   ]
  },
  {
   "cell_type": "code",
   "execution_count": null,
   "metadata": {},
   "outputs": [],
   "source": [
    "x_y = torch.tensor(np.array([[[0.9,0.9,0.8,0.4,0.5],\n",
    "                              [0.8,0.5,0.9,0.3,0.1],\n",
    "                              [0.3,0.9,0.6,0.5,0.9],\n",
    "                              [0.5,0.4,0.5,0.5,0.2],\n",
    "                              [0.7,0.8,0.8,0.2,0.6]]]).astype(np.float32))\n",
    "\n",
    "y_z = torch.tensor(np.array([[[0.9,0.8,0.7,0.9,1.0],\n",
    "                              [0.6,0.4,0.8,0.5,0.6],\n",
    "                              [0.5,0.2,0.3,0.8,0.7],\n",
    "                              [0.5,0.9,0.5,0.8,0.4],\n",
    "                              [1.0,0.6,0.5,0.7,0.4],\n",
    "                              [0.4,0.5,1.0,0.7,0.8],\n",
    "                              [0.5,0.8,0.9,0.5,0.4],\n",
    "                              [0.5,0.6,0.7,0.6,0.5],\n",
    "                              [0.8,1.0,0.2,0.5,0.6],\n",
    "                              [0.3,0.5,0.9,0.6,0.8]]]).astype(np.float32))\n",
    "\n",
    "x_z = compose(x_y, y_z)\n",
    "print(x_z)"
   ]
  },
  {
   "cell_type": "code",
   "execution_count": null,
   "metadata": {},
   "outputs": [],
   "source": []
  },
  {
   "cell_type": "code",
   "execution_count": null,
   "metadata": {},
   "outputs": [],
   "source": []
  }
 ],
 "metadata": {
  "kernelspec": {
   "display_name": "Python 3",
   "language": "python",
   "name": "python3"
  },
  "language_info": {
   "codemirror_mode": {
    "name": "ipython",
    "version": 3
   },
   "file_extension": ".py",
   "mimetype": "text/x-python",
   "name": "python",
   "nbconvert_exporter": "python",
   "pygments_lexer": "ipython3",
   "version": "3.7.3"
  }
 },
 "nbformat": 4,
 "nbformat_minor": 5
}
