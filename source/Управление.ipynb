{
 "cells": [
  {
   "cell_type": "markdown",
   "id": "surprising-portable",
   "metadata": {},
   "source": [
    "# Управление"
   ]
  },
  {
   "cell_type": "code",
   "execution_count": null,
   "id": "incredible-liberia",
   "metadata": {},
   "outputs": [],
   "source": [
    "import numpy as np\n",
    "import scipy.linalg as spl\n",
    "import scipy.optimize as sopt\n",
    "import scipy.stats as stats"
   ]
  },
  {
   "cell_type": "code",
   "execution_count": null,
   "id": "small-effectiveness",
   "metadata": {},
   "outputs": [],
   "source": [
    "import torch\n",
    "from torch import nn\n",
    "from torch.utils.data import Dataset, DataLoader\n",
    "#from torch.autograd.functional import jacobian"
   ]
  },
  {
   "cell_type": "code",
   "execution_count": null,
   "id": "fatty-narrative",
   "metadata": {},
   "outputs": [],
   "source": [
    "import matplotlib\n",
    "import matplotlib.pyplot as plt\n",
    "\n",
    "font = {'family' : 'Liberation Sans',\n",
    "        'weight' : 'normal',\n",
    "        'size'   : 30}\n",
    "\n",
    "matplotlib.rc('font', **font)"
   ]
  },
  {
   "cell_type": "markdown",
   "id": "appreciated-canadian",
   "metadata": {},
   "source": [
    "### Модуль для управления"
   ]
  },
  {
   "cell_type": "code",
   "execution_count": null,
   "id": "other-rebel",
   "metadata": {},
   "outputs": [],
   "source": [
    "class TestControl(nn.Module):\n",
    "    time = 10.0\n",
    "    N = 100\n",
    "    \n",
    "    def __init__(self):\n",
    "        super(TestControl, self).__init__()\n",
    "        self.dt = self.time / self.N\n",
    "        self.control = nn.Linear(2, 4)\n",
    "        torch.nn.init.uniform_(self.control.weight, 0.0, 0.01)\n",
    "        \n",
    "    def forward(self, x_0, params):\n",
    "        X = [x_0]\n",
    "        C = []\n",
    "        for step in range(self.N):\n",
    "            C.append(self.control(X[-1]))\n",
    "            X.append(X[-1] + self.dt *\n",
    "                     (torch.bmm(torch.reshape(C[-1], (x_0.shape[0],2,2)),\n",
    "                                X[-1].unsqueeze(dim=-1)).squeeze(dim=-1) + params))\n",
    "            \n",
    "        return torch.stack(X, dim=1), torch.stack(C, dim=1)"
   ]
  },
  {
   "cell_type": "code",
   "execution_count": null,
   "id": "political-corrections",
   "metadata": {},
   "outputs": [],
   "source": [
    "cont = TestControl()"
   ]
  },
  {
   "cell_type": "code",
   "execution_count": null,
   "id": "possible-montana",
   "metadata": {},
   "outputs": [],
   "source": [
    "x_0 = np.array([[0.0, 0.0], [1.0, 1.0]])\n",
    "p_0 = np.array([[1.0, 1.0], [0.0, 0.0]])"
   ]
  },
  {
   "cell_type": "code",
   "execution_count": null,
   "id": "activated-lloyd",
   "metadata": {},
   "outputs": [],
   "source": [
    "cont.forward(torch.tensor(x_0).float(), torch.tensor(p_0).float())"
   ]
  },
  {
   "cell_type": "code",
   "execution_count": null,
   "id": "julian-athens",
   "metadata": {},
   "outputs": [],
   "source": [
    "class IVPDataset(Dataset):\n",
    "    def __init__(self, x_shape, p_shape):\n",
    "        self.x_shape = x_shape\n",
    "        self.p_shape = p_shape\n",
    "        \n",
    "        self.x_0_dist = stats.norm()\n",
    "        self.p_0_dist = stats.norm()\n",
    "    \n",
    "    def __len__(self):\n",
    "        return 10000\n",
    "    \n",
    "    def __getitem__(self, idx):\n",
    "        return self.x_0_dist.rvs(self.x_shape).astype(np.float32), self.p_0_dist.rvs(self.p_shape).astype(np.float32)"
   ]
  },
  {
   "cell_type": "code",
   "execution_count": null,
   "id": "underlying-tanzania",
   "metadata": {},
   "outputs": [],
   "source": [
    "dataset = IVPDataset((2), (2))\n",
    "dataset[0]"
   ]
  },
  {
   "cell_type": "code",
   "execution_count": null,
   "id": "unlike-spouse",
   "metadata": {},
   "outputs": [],
   "source": [
    "dataloader = DataLoader(\n",
    "    dataset,\n",
    "    batch_size=32,\n",
    "    shuffle=False,\n",
    "    num_workers=0,\n",
    "    collate_fn=None,\n",
    "    pin_memory=False,\n",
    " )"
   ]
  },
  {
   "cell_type": "code",
   "execution_count": null,
   "id": "historic-february",
   "metadata": {},
   "outputs": [],
   "source": [
    "import torch.optim as optim\n",
    "\n",
    "optimizer = optim.SGD(cont.parameters(), lr=0.0001, momentum=0.9)"
   ]
  },
  {
   "cell_type": "code",
   "execution_count": null,
   "id": "conceptual-principal",
   "metadata": {},
   "outputs": [],
   "source": [
    "def my_loss(X, C):\n",
    "    loss = torch.mean((X)**2) + torch.mean((C)**2)\n",
    "    return loss"
   ]
  },
  {
   "cell_type": "code",
   "execution_count": null,
   "id": "juvenile-democrat",
   "metadata": {},
   "outputs": [],
   "source": [
    "for epoch in range(50):  # loop over the dataset multiple times\n",
    "\n",
    "    running_loss = 0.0\n",
    "    for i, data in enumerate(dataloader, 0):\n",
    "        # get the inputs; data is a list of [inputs, labels]\n",
    "        X_0, P_0 = data\n",
    "\n",
    "        # zero the parameter gradients\n",
    "        optimizer.zero_grad()\n",
    "\n",
    "        # forward + backward + optimize\n",
    "        X, C = cont(X_0, P_0)\n",
    "        loss = my_loss(X, C)\n",
    "        loss.backward()\n",
    "        optimizer.step()\n",
    "\n",
    "        # print statistics\n",
    "        running_loss += loss.item()\n",
    "        if i % 20 == 19:    # print every 2000 mini-batches\n",
    "            print(f'[{epoch + 1}, {i + 1:5d}] loss: {running_loss / 2000:.3f}')\n",
    "            running_loss = 0.0\n",
    "\n",
    "print('Finished Training')"
   ]
  },
  {
   "cell_type": "code",
   "execution_count": null,
   "id": "alive-aquarium",
   "metadata": {},
   "outputs": [],
   "source": [
    "cont.forward(torch.tensor(x_0).float(), torch.tensor(p_0).float())"
   ]
  },
  {
   "cell_type": "code",
   "execution_count": null,
   "id": "nasty-clarity",
   "metadata": {},
   "outputs": [],
   "source": []
  }
 ],
 "metadata": {
  "kernelspec": {
   "display_name": "Python 3",
   "language": "python",
   "name": "python3"
  },
  "language_info": {
   "codemirror_mode": {
    "name": "ipython",
    "version": 3
   },
   "file_extension": ".py",
   "mimetype": "text/x-python",
   "name": "python",
   "nbconvert_exporter": "python",
   "pygments_lexer": "ipython3",
   "version": "3.9.2"
  }
 },
 "nbformat": 4,
 "nbformat_minor": 5
}
