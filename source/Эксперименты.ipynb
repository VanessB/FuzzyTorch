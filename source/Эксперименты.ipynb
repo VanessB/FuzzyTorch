{
 "cells": [
  {
   "cell_type": "markdown",
   "id": "mathematical-mineral",
   "metadata": {},
   "source": [
    "# Эксперименты"
   ]
  },
  {
   "cell_type": "code",
   "execution_count": null,
   "id": "european-christianity",
   "metadata": {},
   "outputs": [],
   "source": [
    "import numpy as np\n",
    "import scipy.linalg as spl\n",
    "import scipy.optimize as sopt"
   ]
  },
  {
   "cell_type": "code",
   "execution_count": null,
   "id": "extra-channel",
   "metadata": {},
   "outputs": [],
   "source": [
    "import torch\n",
    "from torch.autograd.functional import jacobian"
   ]
  },
  {
   "cell_type": "code",
   "execution_count": null,
   "id": "decreased-harassment",
   "metadata": {},
   "outputs": [],
   "source": [
    "import matplotlib\n",
    "import matplotlib.pyplot as plt\n",
    "\n",
    "font = {'family' : 'Liberation Sans',\n",
    "        'weight' : 'normal',\n",
    "        'size'   : 30}\n",
    "\n",
    "matplotlib.rc('font', **font)"
   ]
  },
  {
   "cell_type": "code",
   "execution_count": null,
   "id": "naked-philippines",
   "metadata": {},
   "outputs": [],
   "source": [
    "class Immunity:\n",
    "    \"\"\"\n",
    "    Простейшая модель иммунитета.\n",
    "    \"\"\"\n",
    "    \n",
    "    # Параметры\n",
    "    a = 1.0e-7   # Скорость размножения антигена.\n",
    "    b = 1.0e-5   # Скорость уничтожения антигенов.\n",
    "    c = 4.0e-7   # Скорость производства специфичности.\n",
    "    d = 1.0e-6   # Скорость восстановления уровня специфичности.\n",
    "    \n",
    "    C = 1000.0 # Предельная концентрация антигена.\n",
    "    S_0 = 1.0  # Равновесная специфичность.\n",
    "    \n",
    "    \n",
    "    def value_(self, x):\n",
    "        \"\"\"\n",
    "        Правая часть уравнения.\n",
    "        \"\"\"\n",
    "        \n",
    "        result = torch.zeros_like(x)\n",
    "        result[:,0] = self.a * x[:,0] * (self.C - x[:,0]) - self.b * x[:,0] * x[:,1]\n",
    "        result[:,1] = self.c * x[:,0] - self.d * (x[:,1] - self.S_0)\n",
    "        \n",
    "        return result\n",
    "    \n",
    "    def value(self, x):\n",
    "        x = torch.Tensor(x)\n",
    "        return self.value_(x).numpy()\n",
    "    \n",
    "    def derivative(self, x):\n",
    "        x = torch.Tensor(x)\n",
    "        return jacobian(self.value_, x).numpy()"
   ]
  },
  {
   "cell_type": "code",
   "execution_count": null,
   "id": "meaning-forge",
   "metadata": {},
   "outputs": [],
   "source": [
    "x_0 = np.array([0.1, 2.0])\n",
    "rhs = Immunity()\n",
    "\n",
    "n_days = 10\n",
    "time = n_days * 24 * 60 * 60\n",
    "N = n_days * 24\n",
    "dt = time / N"
   ]
  },
  {
   "cell_type": "code",
   "execution_count": null,
   "id": "artistic-socket",
   "metadata": {},
   "outputs": [],
   "source": [
    "T = np.linspace(0.0, time, N+1)\n",
    "X = [x_0]\n",
    "\n",
    "for step in range(N):\n",
    "    X.append(X[-1] + dt * rhs.value(X[-1][None,:])[0])"
   ]
  },
  {
   "cell_type": "code",
   "execution_count": null,
   "id": "ahead-dominican",
   "metadata": {},
   "outputs": [],
   "source": [
    "X = np.array(X)"
   ]
  },
  {
   "cell_type": "code",
   "execution_count": null,
   "id": "agricultural-stranger",
   "metadata": {},
   "outputs": [],
   "source": [
    "fig, ax = plt.subplots()\n",
    "\n",
    "fig.set_figheight(12)\n",
    "fig.set_figwidth(24)\n",
    "ax.grid(color='#000000', alpha=0.15, linestyle='-', linewidth=1, which='major')\n",
    "ax.grid(color='#000000', alpha=0.1, linestyle='-', linewidth=0.5, which='minor')\n",
    "\n",
    "ax.set_xlabel(\"$t, \\\\; с$\")\n",
    "ax.set_ylabel(\"$x(t)$\")\n",
    "\n",
    "ax.set_yscale('log')\n",
    "\n",
    "ax.plot(T, X[:,0], label=\"$ V $\")\n",
    "ax.plot(T, X[:,1], label=\"$ S $\")\n",
    "    \n",
    "ax.legend(loc='upper left')\n",
    "plt.show();"
   ]
  },
  {
   "cell_type": "code",
   "execution_count": null,
   "id": "structured-klein",
   "metadata": {},
   "outputs": [],
   "source": []
  }
 ],
 "metadata": {
  "kernelspec": {
   "display_name": "Python 3",
   "language": "python",
   "name": "python3"
  },
  "language_info": {
   "codemirror_mode": {
    "name": "ipython",
    "version": 3
   },
   "file_extension": ".py",
   "mimetype": "text/x-python",
   "name": "python",
   "nbconvert_exporter": "python",
   "pygments_lexer": "ipython3",
   "version": "3.9.2"
  }
 },
 "nbformat": 4,
 "nbformat_minor": 5
}
