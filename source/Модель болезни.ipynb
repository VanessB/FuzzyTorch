{
 "cells": [
  {
   "cell_type": "markdown",
   "id": "drawn-treasure",
   "metadata": {},
   "source": [
    "# Модель болезни"
   ]
  },
  {
   "cell_type": "code",
   "execution_count": null,
   "id": "designing-starter",
   "metadata": {},
   "outputs": [],
   "source": [
    "import numpy as np\n",
    "import scipy.linalg as spl\n",
    "import scipy.optimize as sopt\n",
    "import scipy.stats as stats"
   ]
  },
  {
   "cell_type": "code",
   "execution_count": null,
   "id": "critical-hometown",
   "metadata": {},
   "outputs": [],
   "source": [
    "import torch\n",
    "from torch import nn\n",
    "from torch.utils.data import Dataset, DataLoader\n",
    "#from torch.autograd.functional import jacobian"
   ]
  },
  {
   "cell_type": "code",
   "execution_count": null,
   "id": "measured-tampa",
   "metadata": {},
   "outputs": [],
   "source": [
    "import matplotlib\n",
    "import matplotlib.pyplot as plt\n",
    "\n",
    "font = {'family' : 'Liberation Sans',\n",
    "        'weight' : 'normal',\n",
    "        'size'   : 30}\n",
    "\n",
    "matplotlib.rc('font', **font)"
   ]
  },
  {
   "cell_type": "code",
   "execution_count": null,
   "id": "smaller-auction",
   "metadata": {},
   "outputs": [],
   "source": [
    "import sys\n",
    "sys.path.insert(0, './python')"
   ]
  },
  {
   "cell_type": "code",
   "execution_count": null,
   "id": "infrared-candy",
   "metadata": {},
   "outputs": [],
   "source": [
    "from fuzzy_torch import logic\n",
    "from fuzzy_torch.modules.indicators import *\n",
    "from fuzzy_torch.modules.ffsa import *"
   ]
  },
  {
   "cell_type": "code",
   "execution_count": null,
   "id": "authentic-gazette",
   "metadata": {},
   "outputs": [],
   "source": [
    "Logic = logic.Product"
   ]
  },
  {
   "cell_type": "markdown",
   "id": "extended-probability",
   "metadata": {},
   "source": [
    "## Модель болезни"
   ]
  },
  {
   "cell_type": "code",
   "execution_count": null,
   "id": "traditional-stevens",
   "metadata": {},
   "outputs": [],
   "source": [
    "class ControlModel(nn.Module):\n",
    "    def __init__(self, system, controller, time, n_steps):\n",
    "        super().__init__()\n",
    "        self.system = system\n",
    "        self.controller = controller\n",
    "        self.time = time\n",
    "        self.n_steps = n_steps\n",
    "        \n",
    "    def forward(self, input, parameters):        \n",
    "        variables = [input]\n",
    "        activations = [torch.zeros((input.size()[0], len(self.controller.ffsa.states)))]\n",
    "        activations[0][:,0] = 1.0\n",
    "        controls = []\n",
    "        \n",
    "        dt = self.time / self.n_steps\n",
    "        for step in range(self.n_steps):\n",
    "            control, activation = self.controller(variables[-1], activations[-1], dt)\n",
    "            activations.append(activation)\n",
    "            controls.append(control)\n",
    "            variables.append(\n",
    "                torch.clamp(variables[-1] + dt * self.system(parameters, controls[-1], variables[-1]), min=0)\n",
    "                #variables[-1] + dt * self.system(parameters, controls[-1], variables[-1])\n",
    "            )\n",
    "            \n",
    "        return torch.stack(variables, dim=1), torch.stack(controls, dim=1), torch.stack(activations, dim=1)"
   ]
  },
  {
   "cell_type": "code",
   "execution_count": null,
   "id": "postal-livestock",
   "metadata": {},
   "outputs": [],
   "source": [
    "class ImmunityModelSystem:\n",
    "    def __call__(self, parameters, control, variables):\n",
    "        # Параметры\n",
    "        a = parameters[:,0]   # Скорость размножения антигена.\n",
    "        b = parameters[:,1]   # Скорость уничтожения антигенов.\n",
    "        c = parameters[:,2]   # Скорость производства специфичности.\n",
    "        d = parameters[:,3]   # Скорость восстановления уровня специфичности.\n",
    "\n",
    "        C = parameters[:,4]   # Предельная концентрация антигена.\n",
    "        S_0 = parameters[:,5] # Равновесная специфичность.\n",
    "        m_0 = parameters[:,6] # Невосприимчивость к лекарству.\n",
    "        \n",
    "        result = torch.zeros_like(variables)\n",
    "        result[:,0] = torch.exp(-control[:,0] / m_0) * a * variables[:,0] * (C - variables[:,0]) - \\\n",
    "                          b * variables[:,0] * variables[:,1]\n",
    "        result[:,1] = c * variables[:,0] - d * (variables[:,1] - S_0)\n",
    "        \n",
    "        return result"
   ]
  },
  {
   "cell_type": "code",
   "execution_count": null,
   "id": "alive-piano",
   "metadata": {},
   "outputs": [],
   "source": [
    "class FFSARegressor(nn.Module):\n",
    "    def __init__(self, logic, ffsa):\n",
    "        super().__init__()\n",
    "        self.logic = logic\n",
    "        self.ffsa = ffsa\n",
    "        self.debug = False\n",
    "        \n",
    "    def forward(self, input, activation, dt):       \n",
    "        # Новые активации (согласно нечеткому конечному автомату).\n",
    "        new_activation = self.ffsa(input, activation, dt)\n",
    "        \n",
    "        # Получение выходов регрессоров.\n",
    "        outputs = [state(input) for state in self.ffsa.states]\n",
    "        stacked_outputs = torch.stack(outputs, dim=1)\n",
    "        weighted_output = torch.einsum(\"bo,bo...->b...\", new_activation, stacked_outputs)\n",
    "            \n",
    "        return weighted_output, new_activation"
   ]
  },
  {
   "cell_type": "markdown",
   "id": "brazilian-indiana",
   "metadata": {},
   "source": [
    "## Набор данных"
   ]
  },
  {
   "cell_type": "code",
   "execution_count": null,
   "id": "informal-battlefield",
   "metadata": {},
   "outputs": [],
   "source": [
    "class InfectionDataset(torch.utils.data.Dataset):\n",
    "    def __init__(self):\n",
    "        self.a_dist = stats.lognorm(scale=2e-7, s=1.0e-1)  # Скорость размножения антигена.\n",
    "        self.b_dist = stats.lognorm(scale=8e-6, s=1.0e-1)  # Скорость уничтожения антигенов.\n",
    "        self.c_dist = stats.lognorm(scale=8e-7, s=1.0e-1)  # Скорость производства специфичности.\n",
    "        self.d_dist = stats.lognorm(scale=2e-6, s=1.0e-1)  # Скорость восстановления уровня специфичности.\n",
    "\n",
    "        self.C_dist = stats.lognorm(scale=100.0, s=1.0e-1) # Предельная концентрация антигена.\n",
    "        self.S_0_dist = stats.lognorm(scale=0.1, s=1.0e-1) # Равновесная специфичность.\n",
    "        self.m_0_dist = stats.lognorm(scale=1.0, s=1.0e-1) # Невосприимчивость к лекарству.\n",
    "        \n",
    "        self.init_V_dist = stats.lognorm(scale=1.0, s=3.0e-1)\n",
    "        self.init_S_dist = stats.lognorm(scale=0.1, s=3.0e-1)\n",
    "    \n",
    "    def __len__(self):\n",
    "        return 16384\n",
    "    \n",
    "    def __getitem__(self, idx):\n",
    "        init_varibles = np.array([self.init_V_dist.rvs(1)[0], self.init_S_dist.rvs(1)[0]]).astype(np.float32)\n",
    "        \n",
    "        parameters = np.array([self.a_dist.rvs(1)[0],\n",
    "                               self.b_dist.rvs(1)[0],\n",
    "                               self.c_dist.rvs(1)[0],\n",
    "                               self.d_dist.rvs(1)[0],\n",
    "                               self.C_dist.rvs(1)[0],\n",
    "                               self.S_0_dist.rvs(1)[0],\n",
    "                               self.m_0_dist.rvs(1)[0]]).astype(np.float32)\n",
    "        \n",
    "        return init_varibles, parameters"
   ]
  },
  {
   "cell_type": "code",
   "execution_count": null,
   "id": "deluxe-ukraine",
   "metadata": {},
   "outputs": [],
   "source": [
    "dataset = InfectionDataset()"
   ]
  },
  {
   "cell_type": "code",
   "execution_count": null,
   "id": "vocational-guyana",
   "metadata": {},
   "outputs": [],
   "source": [
    "dataset[0]"
   ]
  },
  {
   "cell_type": "code",
   "execution_count": null,
   "id": "acting-association",
   "metadata": {},
   "outputs": [],
   "source": [
    "def test_plots():\n",
    "    init_variables, parameters = dataset[0]\n",
    "    init_variables = torch.tensor(init_variables)[None,:]\n",
    "    parameters = torch.tensor(parameters)[None,:]\n",
    "    control = torch.ones(1, 1) * 0.0\n",
    "    \n",
    "    system = ImmunityModelSystem()\n",
    "    \n",
    "    n_days = 10\n",
    "    time = n_days * 24 * 60 * 60\n",
    "    n_steps = n_days * 24\n",
    "    dt = time / n_steps\n",
    "    \n",
    "    T = np.linspace(0.0, time, n_steps+1)\n",
    "    variables = [init_variables]\n",
    "    for step in range(n_steps):\n",
    "        variables.append(variables[-1] + dt * system(parameters, control, variables[-1]))\n",
    "        \n",
    "    variables = torch.stack(variables, dim=1).detach().numpy()[0]\n",
    "        \n",
    "    \n",
    "    # Графики.\n",
    "    fig, ax = plt.subplots()\n",
    "\n",
    "    fig.set_figheight(12)\n",
    "    fig.set_figwidth(24)\n",
    "    ax.grid(color='#000000', alpha=0.15, linestyle='-', linewidth=1, which='major')\n",
    "    ax.grid(color='#000000', alpha=0.1, linestyle='-', linewidth=0.5, which='minor')\n",
    "\n",
    "    ax.set_xlabel(\"$t, \\\\; с$\")\n",
    "    ax.set_ylabel(\"$x(t)$\")\n",
    "\n",
    "    #ax.set_yscale('log')\n",
    "\n",
    "    ax.plot(T, variables[:,0], label=\"$ V $\")\n",
    "    ax.plot(T, variables[:,1], label=\"$ S $\")\n",
    "\n",
    "    ax.legend(loc='upper left')\n",
    "    plt.show();"
   ]
  },
  {
   "cell_type": "code",
   "execution_count": null,
   "id": "compressed-syndicate",
   "metadata": {},
   "outputs": [],
   "source": [
    "test_plots()"
   ]
  },
  {
   "cell_type": "markdown",
   "id": "educational-pioneer",
   "metadata": {},
   "source": [
    "## Автомат"
   ]
  },
  {
   "cell_type": "code",
   "execution_count": null,
   "id": "demonstrated-final",
   "metadata": {},
   "outputs": [],
   "source": [
    "class LogSigmoid(Sigmoid):\n",
    "    def __init__(self, in_features, weight=None, offset=None):\n",
    "        super().__init__(in_features=in_features, weight=weight, offset=offset)\n",
    "        \n",
    "    def forward(self, x):\n",
    "        return super().forward(torch.log(torch.abs(x) + 1e-4))"
   ]
  },
  {
   "cell_type": "code",
   "execution_count": null,
   "id": "subsequent-cooperation",
   "metadata": {},
   "outputs": [],
   "source": [
    "infection_ffsa = TimeDependentFFSA(Logic, normalize=True)"
   ]
  },
  {
   "cell_type": "code",
   "execution_count": null,
   "id": "alternative-redhead",
   "metadata": {},
   "outputs": [],
   "source": [
    "infection_ffsa.states = torch.nn.ModuleList([\n",
    "    nn.Linear(2, 1),\n",
    "    nn.Linear(2, 1),\n",
    "    #nn.Linear(2, 1),\n",
    "    #nn.Linear(2, 1)\n",
    "])"
   ]
  },
  {
   "cell_type": "code",
   "execution_count": null,
   "id": "intellectual-animal",
   "metadata": {},
   "outputs": [],
   "source": [
    "infection_ffsa.states[0].weight = nn.Parameter(torch.zeros((1, 2)))\n",
    "infection_ffsa.states[0].bias = nn.Parameter(torch.zeros((1)))\n",
    "\n",
    "infection_ffsa.states[1].weight = nn.Parameter(torch.ones((1, 2)) / 8)\n",
    "infection_ffsa.states[1].bias = nn.Parameter(torch.zeros((1)))\n",
    "\n",
    "#infection_ffsa.states[2].weight = nn.Parameter(torch.ones((1, 2)) / 8)\n",
    "#infection_ffsa.states[2].bias = nn.Parameter(torch.zeros((1)))\n",
    "\n",
    "#infection_ffsa.states[3].weight = nn.Parameter(torch.zeros((1, 2)))\n",
    "#infection_ffsa.states[3].bias = nn.Parameter(torch.zeros((1)))"
   ]
  },
  {
   "cell_type": "code",
   "execution_count": null,
   "id": "proved-economics",
   "metadata": {},
   "outputs": [],
   "source": [
    "infection_ffsa.transitions = torch.nn.ModuleList([\n",
    "    ContinuousFuzzyTransition(0, 1, LogSigmoid(\n",
    "        in_features=2,\n",
    "        weight=np.array([1.0, 0.0]).astype(np.float32),\n",
    "        offset=np.array([4.0, 0.0]).astype(np.float32)),\n",
    "        speed=1e-6),\n",
    "    #ContinuousFuzzyTransition(1, 2, LogSigmoid(\n",
    "    #    in_features=2,\n",
    "    #    weight=np.array([-1.0, 1.0]).astype(np.float32),\n",
    "    #    offset=np.array([3.5, 1.0]).astype(np.float32)),\n",
    "    #    speed=1e-6),\n",
    "    #ContinuousFuzzyTransition(1, 3, LogSigmoid(\n",
    "    #    in_features=2,\n",
    "    #    weight=np.array([-1.0, 1.0]).astype(np.float32),\n",
    "    #    offset=np.array([2.0, 1.0]).astype(np.float32)),\n",
    "    #    speed=1e-6),\n",
    "    #ContinuousFuzzyTransition(2, 1, LogSigmoid(\n",
    "    #    in_features=2,\n",
    "    #    weight=np.array([1.0, 1.0]).astype(np.float32),\n",
    "    #    offset=np.array([4.0, 1.0]).astype(np.float32)),\n",
    "    #    speed=1e-6),\n",
    "    #ContinuousFuzzyTransition(2, 3, LogSigmoid(\n",
    "    #    in_features=2,\n",
    "    #    weight=np.array([-1.0, 1.0]).astype(np.float32),\n",
    "    #    offset=np.array([2.0, 1.0]).astype(np.float32)),\n",
    "    #    speed=1e-6)\n",
    "])"
   ]
  },
  {
   "cell_type": "markdown",
   "id": "proud-argument",
   "metadata": {},
   "source": [
    "## Регрессор"
   ]
  },
  {
   "cell_type": "code",
   "execution_count": null,
   "id": "given-advantage",
   "metadata": {},
   "outputs": [],
   "source": [
    "infection_regressor = FFSARegressor(Logic, infection_ffsa)"
   ]
  },
  {
   "cell_type": "markdown",
   "id": "ahead-prefix",
   "metadata": {},
   "source": [
    "## Итоговая модель"
   ]
  },
  {
   "cell_type": "code",
   "execution_count": null,
   "id": "sublime-nowhere",
   "metadata": {},
   "outputs": [],
   "source": [
    "system = ImmunityModelSystem()\n",
    "\n",
    "n_days = 10\n",
    "time = n_days * 24 * 60 * 60\n",
    "n_steps = n_days * 24 * 8\n",
    "dt = time / n_steps"
   ]
  },
  {
   "cell_type": "code",
   "execution_count": null,
   "id": "actual-cement",
   "metadata": {},
   "outputs": [],
   "source": [
    "model = ControlModel(system, infection_regressor, time, n_steps)"
   ]
  },
  {
   "cell_type": "code",
   "execution_count": null,
   "id": "running-anthony",
   "metadata": {},
   "outputs": [],
   "source": [
    "dataloader = DataLoader(\n",
    "    dataset,\n",
    "    batch_size=256,\n",
    "    shuffle=False,\n",
    "    num_workers=0,\n",
    "    collate_fn=None,\n",
    "    pin_memory=False,\n",
    " )"
   ]
  },
  {
   "cell_type": "code",
   "execution_count": null,
   "id": "wrong-lecture",
   "metadata": {},
   "outputs": [],
   "source": [
    "def my_loss(variables, controls):\n",
    "    #print(variables.size())\n",
    "    loss = torch.sqrt(torch.mean((variables[:,:,0])**2)) + 5.0 * torch.sqrt(torch.mean((controls)**2))\n",
    "    return loss"
   ]
  },
  {
   "cell_type": "code",
   "execution_count": null,
   "id": "shaped-advance",
   "metadata": {},
   "outputs": [],
   "source": [
    "import torch.optim as optim\n",
    "\n",
    "optimizer = optim.Adam(model.parameters(), lr=0.0001)#, momentum=0.9)"
   ]
  },
  {
   "cell_type": "code",
   "execution_count": null,
   "id": "continent-tattoo",
   "metadata": {
    "scrolled": true
   },
   "outputs": [],
   "source": [
    "for epoch in range(50):  # loop over the dataset multiple times\n",
    "    running_loss = 0.0\n",
    "    for i, data in enumerate(dataloader, 0):\n",
    "        # get the inputs; data is a list of [inputs, labels]\n",
    "        init_variables, parameters = data\n",
    "\n",
    "        # zero the parameter gradients\n",
    "        optimizer.zero_grad()\n",
    "\n",
    "        # forward + backward + optimize\n",
    "        variables, controls, activations = model(init_variables, parameters)\n",
    "        loss = my_loss(variables, controls)\n",
    "        controls.retain_grad()\n",
    "        loss.backward(retain_graph = True)\n",
    "        #if epoch <= 2:\n",
    "        #    torch.nn.utils.clip_grad_norm_(controller.parameters(), 1.0)\n",
    "        for param in model.parameters():\n",
    "            param.grad = torch.nan_to_num(param.grad, nan=0.0, posinf=0.0, neginf=0.0)\n",
    "        optimizer.step()\n",
    "\n",
    "        # print statistics\n",
    "        #print(activations[0])\n",
    "        #print(controls[0])\n",
    "        print(f'[{epoch + 1}, {i + 1:5d}] loss: {loss.item():.3f}')\n",
    "\n",
    "print('Finished Training')"
   ]
  },
  {
   "cell_type": "code",
   "execution_count": null,
   "id": "adjusted-uniform",
   "metadata": {},
   "outputs": [],
   "source": [
    "for state in model.controller.ffsa.states:\n",
    "    print(state.weight)\n",
    "    print(state.bias)"
   ]
  },
  {
   "cell_type": "code",
   "execution_count": null,
   "id": "suited-handbook",
   "metadata": {},
   "outputs": [],
   "source": [
    "for transition in model.controller.ffsa.transitions:\n",
    "    print(transition.condition.linear.weight)\n",
    "    print(transition.condition.linear.bias)\n",
    "    print(transition.speed)"
   ]
  },
  {
   "cell_type": "code",
   "execution_count": null,
   "id": "unknown-tracy",
   "metadata": {},
   "outputs": [],
   "source": [
    "print(variables[0])"
   ]
  },
  {
   "cell_type": "code",
   "execution_count": null,
   "id": "existing-snowboard",
   "metadata": {},
   "outputs": [],
   "source": [
    "print(activations[1])"
   ]
  },
  {
   "cell_type": "code",
   "execution_count": null,
   "id": "decreased-celebration",
   "metadata": {},
   "outputs": [],
   "source": [
    "print(controls[0])"
   ]
  },
  {
   "cell_type": "code",
   "execution_count": null,
   "id": "excited-mouth",
   "metadata": {},
   "outputs": [],
   "source": [
    "def test_control_plots():\n",
    "    init_variables, parameters = dataset[0]\n",
    "    init_variables = torch.tensor(init_variables)[None,:]\n",
    "    parameters = torch.tensor(parameters)[None,:]\n",
    "    control = torch.ones(1, 1) * 0.0\n",
    "    \n",
    "    system = ImmunityModelSystem()\n",
    "    \n",
    "    n_days = 100\n",
    "    time = n_days * 24 * 60 * 60\n",
    "    n_steps = n_days * 24\n",
    "    dt = time / n_steps\n",
    "    \n",
    "    T = np.linspace(0.0, time, n_steps+1)\n",
    "    variables = [init_variables]\n",
    "    for step in range(n_steps):\n",
    "        variables.append(variables[-1] + dt * system(parameters, control, variables[-1]))\n",
    "        \n",
    "    variables = torch.stack(variables, dim=1).detach().numpy()[0]\n",
    "        \n",
    "    \n",
    "    # Графики.\n",
    "    fig, ax = plt.subplots()\n",
    "\n",
    "    fig.set_figheight(12)\n",
    "    fig.set_figwidth(24)\n",
    "    ax.grid(color='#000000', alpha=0.15, linestyle='-', linewidth=1, which='major')\n",
    "    ax.grid(color='#000000', alpha=0.1, linestyle='-', linewidth=0.5, which='minor')\n",
    "\n",
    "    ax.set_xlabel(\"$t, \\\\; с$\")\n",
    "    ax.set_ylabel(\"$x(t)$, у.е.\")\n",
    "\n",
    "    #ax.set_yscale('log')\n",
    "\n",
    "    ax.plot(T, variables[:,0], label=\"Вирусная нагрузка\")\n",
    "    ax.plot(T, variables[:,1], label=\"Иммунная реакция\")\n",
    "\n",
    "    ax.legend(loc='upper right')\n",
    "    plt.show();\n",
    "    \n",
    "    \n",
    "    model.time = time\n",
    "    model.n_steps = n_steps\n",
    "    new_variables, controls, activations = model(init_variables, parameters)\n",
    "    \n",
    "    \n",
    "    # Графики.\n",
    "    fig, ax = plt.subplots()\n",
    "\n",
    "    fig.set_figheight(12)\n",
    "    fig.set_figwidth(24)\n",
    "    ax.grid(color='#000000', alpha=0.15, linestyle='-', linewidth=1, which='major')\n",
    "    ax.grid(color='#000000', alpha=0.1, linestyle='-', linewidth=0.5, which='minor')\n",
    "\n",
    "    ax.set_xlabel(\"$t, \\\\; с$\")\n",
    "    ax.set_ylabel(\"$x(t)$, у.е.\")\n",
    "\n",
    "    #ax.set_yscale('log')\n",
    "\n",
    "    ax.plot(T, new_variables[0,:,0].detach().numpy(), label=\"Вирусная нагрузка\")\n",
    "    ax.plot(T, new_variables[0,:,1].detach().numpy(), label=\"Иммунная реакция\")\n",
    "    ax.plot(T[1:], controls[0,:,0].detach().numpy(), label=\"Лекарство\")\n",
    "\n",
    "    ax.legend(loc='upper right')\n",
    "    plt.show();\n",
    "    \n",
    "    \n",
    "    # Графики.\n",
    "    fig, ax = plt.subplots()\n",
    "\n",
    "    fig.set_figheight(12)\n",
    "    fig.set_figwidth(24)\n",
    "    ax.grid(color='#000000', alpha=0.15, linestyle='-', linewidth=1, which='major')\n",
    "    ax.grid(color='#000000', alpha=0.1, linestyle='-', linewidth=0.5, which='minor')\n",
    "\n",
    "    ax.set_xlabel(\"$t, \\\\; с$\")\n",
    "    ax.set_ylabel(\"$x(t)$, у.е.\")\n",
    "\n",
    "    #ax.set_yscale('log')\n",
    "\n",
    "    ax.plot(T, variables[:,0], label=\"Вирусная нагрузка без лечения\")\n",
    "    ax.plot(T, new_variables[0,:,0].detach().numpy(), label=\"Вирусная нагрузка с лечением\")\n",
    "\n",
    "    ax.legend(loc='upper right')\n",
    "    plt.show();"
   ]
  },
  {
   "cell_type": "code",
   "execution_count": null,
   "id": "coastal-vault",
   "metadata": {
    "scrolled": false
   },
   "outputs": [],
   "source": [
    "test_control_plots()"
   ]
  },
  {
   "cell_type": "code",
   "execution_count": null,
   "id": "statewide-carolina",
   "metadata": {},
   "outputs": [],
   "source": []
  }
 ],
 "metadata": {
  "kernelspec": {
   "display_name": "Python 3",
   "language": "python",
   "name": "python3"
  },
  "language_info": {
   "codemirror_mode": {
    "name": "ipython",
    "version": 3
   },
   "file_extension": ".py",
   "mimetype": "text/x-python",
   "name": "python",
   "nbconvert_exporter": "python",
   "pygments_lexer": "ipython3",
   "version": "3.9.2"
  }
 },
 "nbformat": 4,
 "nbformat_minor": 5
}
